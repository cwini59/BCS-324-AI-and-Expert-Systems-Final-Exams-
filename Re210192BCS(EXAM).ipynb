{
 "cells": [
  {
   "cell_type": "code",
   "execution_count": 6,
   "metadata": {},
   "outputs": [],
   "source": [
    "import pandas as pd"
   ]
  },
  {
   "cell_type": "code",
   "execution_count": 7,
   "metadata": {},
   "outputs": [],
   "source": [
    "path = 'https://raw.githubusercontent.com/subashgandyer/datasets/main/loan_train.csv'"
   ]
  },
  {
   "cell_type": "code",
   "execution_count": 9,
   "metadata": {},
   "outputs": [],
   "source": [
    "# Now reading the data\n",
    "df = pd.read_csv(path)"
   ]
  },
  {
   "cell_type": "code",
   "execution_count": 10,
   "metadata": {},
   "outputs": [
    {
     "name": "stdout",
     "output_type": "stream",
     "text": [
      "<class 'pandas.core.frame.DataFrame'>\n",
      "RangeIndex: 614 entries, 0 to 613\n",
      "Data columns (total 13 columns):\n",
      "Loan_ID              614 non-null object\n",
      "Gender               601 non-null object\n",
      "Married              611 non-null object\n",
      "Dependents           599 non-null object\n",
      "Education            614 non-null object\n",
      "Self_Employed        582 non-null object\n",
      "ApplicantIncome      614 non-null int64\n",
      "CoapplicantIncome    614 non-null float64\n",
      "LoanAmount           592 non-null float64\n",
      "Loan_Amount_Term     600 non-null float64\n",
      "Credit_History       564 non-null float64\n",
      "Property_Area        614 non-null object\n",
      "Loan_Status          614 non-null object\n",
      "dtypes: float64(4), int64(1), object(8)\n",
      "memory usage: 62.5+ KB\n"
     ]
    }
   ],
   "source": [
    "df.info()"
   ]
  },
  {
   "cell_type": "code",
   "execution_count": 11,
   "metadata": {},
   "outputs": [
    {
     "data": {
      "text/plain": [
       "Loan_ID               0\n",
       "Gender               13\n",
       "Married               3\n",
       "Dependents           15\n",
       "Education             0\n",
       "Self_Employed        32\n",
       "ApplicantIncome       0\n",
       "CoapplicantIncome     0\n",
       "LoanAmount           22\n",
       "Loan_Amount_Term     14\n",
       "Credit_History       50\n",
       "Property_Area         0\n",
       "Loan_Status           0\n",
       "dtype: int64"
      ]
     },
     "execution_count": 11,
     "metadata": {},
     "output_type": "execute_result"
    }
   ],
   "source": [
    "df.isna().sum()"
   ]
  },
  {
   "cell_type": "code",
   "execution_count": 12,
   "metadata": {},
   "outputs": [],
   "source": [
    "df['Gender'].mode()\n",
    "df['Gender'].fillna('male',inplace=True)\n",
    "\n",
    "df['Married'].mode()\n",
    "df['Married'].fillna('Yes',inplace=True)\n",
    "\n",
    "df['Self_Employed'].mode()\n",
    "df['Self_Employed'].fillna('Yes',inplace=True)\n",
    "\n",
    "df['Dependents'] = data['Dependents'].replace(['3+'],3)\n",
    "df['Dependents'].fillna(0,inplace=True)\n",
    "df['Dependents'].fillna(0,inplace=True)\n",
    "\n",
    "df.fillna(data.mean(),inplace=True)"
   ]
  },
  {
   "cell_type": "code",
   "execution_count": 13,
   "metadata": {},
   "outputs": [
    {
     "data": {
      "text/plain": [
       "Loan_ID              0\n",
       "Gender               0\n",
       "Married              0\n",
       "Dependents           0\n",
       "Education            0\n",
       "Self_Employed        0\n",
       "ApplicantIncome      0\n",
       "CoapplicantIncome    0\n",
       "LoanAmount           0\n",
       "Loan_Amount_Term     0\n",
       "Credit_History       0\n",
       "Property_Area        0\n",
       "Loan_Status          0\n",
       "dtype: int64"
      ]
     },
     "execution_count": 13,
     "metadata": {},
     "output_type": "execute_result"
    }
   ],
   "source": [
    "df.isna().sum()"
   ]
  },
  {
   "cell_type": "markdown",
   "metadata": {},
   "source": [
    "# CATEGORICAL DATA TO NUMERICAL DATA"
   ]
  },
  {
   "cell_type": "code",
   "execution_count": 14,
   "metadata": {},
   "outputs": [],
   "source": [
    "from sklearn.preprocessing import LabelEncoder, OneHotEncoder\n",
    "le = LabelEncoder()"
   ]
  },
  {
   "cell_type": "code",
   "execution_count": 15,
   "metadata": {},
   "outputs": [],
   "source": [
    "df.Gender = le.fit_transform(df.Gender)\n",
    "\n",
    "df.Married = le.fit_transform(df.Married)\n",
    "\n",
    "df.Self_Employed = le.fit_transform(df.Self_Employed)\n",
    "\n",
    "df.Education = le.fit_transform(df.Education)\n",
    "                                  \n",
    "df.Loan_Status = le.fit_transform(df.Loan_Status)"
   ]
  },
  {
   "cell_type": "code",
   "execution_count": 16,
   "metadata": {},
   "outputs": [],
   "source": [
    "ohe = OneHotEncoder()\n",
    "area = ohe.fit_transform(data[['Property_Area']]).toarray()\n",
    "a_frame = pd.DataFrame(area)\n",
    "\n",
    "data_new = pd.concat([data,a_frame],axis=1)"
   ]
  },
  {
   "cell_type": "code",
   "execution_count": 17,
   "metadata": {},
   "outputs": [
    {
     "data": {
      "text/html": [
       "<div>\n",
       "<style scoped>\n",
       "    .dataframe tbody tr th:only-of-type {\n",
       "        vertical-align: middle;\n",
       "    }\n",
       "\n",
       "    .dataframe tbody tr th {\n",
       "        vertical-align: top;\n",
       "    }\n",
       "\n",
       "    .dataframe thead th {\n",
       "        text-align: right;\n",
       "    }\n",
       "</style>\n",
       "<table border=\"1\" class=\"dataframe\">\n",
       "  <thead>\n",
       "    <tr style=\"text-align: right;\">\n",
       "      <th></th>\n",
       "      <th>Loan_ID</th>\n",
       "      <th>Gender</th>\n",
       "      <th>Married</th>\n",
       "      <th>Dependents</th>\n",
       "      <th>Education</th>\n",
       "      <th>Self_Employed</th>\n",
       "      <th>ApplicantIncome</th>\n",
       "      <th>CoapplicantIncome</th>\n",
       "      <th>LoanAmount</th>\n",
       "      <th>Loan_Amount_Term</th>\n",
       "      <th>Credit_History</th>\n",
       "      <th>Property_Area</th>\n",
       "      <th>Loan_Status</th>\n",
       "      <th>0</th>\n",
       "      <th>1</th>\n",
       "      <th>2</th>\n",
       "    </tr>\n",
       "  </thead>\n",
       "  <tbody>\n",
       "    <tr>\n",
       "      <td>0</td>\n",
       "      <td>LP001002</td>\n",
       "      <td>1</td>\n",
       "      <td>0</td>\n",
       "      <td>0</td>\n",
       "      <td>0</td>\n",
       "      <td>0</td>\n",
       "      <td>5849</td>\n",
       "      <td>0.0</td>\n",
       "      <td>146.412162</td>\n",
       "      <td>360.0</td>\n",
       "      <td>1.0</td>\n",
       "      <td>Urban</td>\n",
       "      <td>1</td>\n",
       "      <td>0.0</td>\n",
       "      <td>0.0</td>\n",
       "      <td>1.0</td>\n",
       "    </tr>\n",
       "    <tr>\n",
       "      <td>1</td>\n",
       "      <td>LP001003</td>\n",
       "      <td>1</td>\n",
       "      <td>1</td>\n",
       "      <td>1</td>\n",
       "      <td>0</td>\n",
       "      <td>0</td>\n",
       "      <td>4583</td>\n",
       "      <td>1508.0</td>\n",
       "      <td>128.000000</td>\n",
       "      <td>360.0</td>\n",
       "      <td>1.0</td>\n",
       "      <td>Rural</td>\n",
       "      <td>0</td>\n",
       "      <td>1.0</td>\n",
       "      <td>0.0</td>\n",
       "      <td>0.0</td>\n",
       "    </tr>\n",
       "    <tr>\n",
       "      <td>2</td>\n",
       "      <td>LP001005</td>\n",
       "      <td>1</td>\n",
       "      <td>1</td>\n",
       "      <td>0</td>\n",
       "      <td>0</td>\n",
       "      <td>1</td>\n",
       "      <td>3000</td>\n",
       "      <td>0.0</td>\n",
       "      <td>66.000000</td>\n",
       "      <td>360.0</td>\n",
       "      <td>1.0</td>\n",
       "      <td>Urban</td>\n",
       "      <td>1</td>\n",
       "      <td>0.0</td>\n",
       "      <td>0.0</td>\n",
       "      <td>1.0</td>\n",
       "    </tr>\n",
       "    <tr>\n",
       "      <td>3</td>\n",
       "      <td>LP001006</td>\n",
       "      <td>1</td>\n",
       "      <td>1</td>\n",
       "      <td>0</td>\n",
       "      <td>1</td>\n",
       "      <td>0</td>\n",
       "      <td>2583</td>\n",
       "      <td>2358.0</td>\n",
       "      <td>120.000000</td>\n",
       "      <td>360.0</td>\n",
       "      <td>1.0</td>\n",
       "      <td>Urban</td>\n",
       "      <td>1</td>\n",
       "      <td>0.0</td>\n",
       "      <td>0.0</td>\n",
       "      <td>1.0</td>\n",
       "    </tr>\n",
       "    <tr>\n",
       "      <td>4</td>\n",
       "      <td>LP001008</td>\n",
       "      <td>1</td>\n",
       "      <td>0</td>\n",
       "      <td>0</td>\n",
       "      <td>0</td>\n",
       "      <td>0</td>\n",
       "      <td>6000</td>\n",
       "      <td>0.0</td>\n",
       "      <td>141.000000</td>\n",
       "      <td>360.0</td>\n",
       "      <td>1.0</td>\n",
       "      <td>Urban</td>\n",
       "      <td>1</td>\n",
       "      <td>0.0</td>\n",
       "      <td>0.0</td>\n",
       "      <td>1.0</td>\n",
       "    </tr>\n",
       "    <tr>\n",
       "      <td>...</td>\n",
       "      <td>...</td>\n",
       "      <td>...</td>\n",
       "      <td>...</td>\n",
       "      <td>...</td>\n",
       "      <td>...</td>\n",
       "      <td>...</td>\n",
       "      <td>...</td>\n",
       "      <td>...</td>\n",
       "      <td>...</td>\n",
       "      <td>...</td>\n",
       "      <td>...</td>\n",
       "      <td>...</td>\n",
       "      <td>...</td>\n",
       "      <td>...</td>\n",
       "      <td>...</td>\n",
       "      <td>...</td>\n",
       "    </tr>\n",
       "    <tr>\n",
       "      <td>609</td>\n",
       "      <td>LP002978</td>\n",
       "      <td>0</td>\n",
       "      <td>0</td>\n",
       "      <td>0</td>\n",
       "      <td>0</td>\n",
       "      <td>0</td>\n",
       "      <td>2900</td>\n",
       "      <td>0.0</td>\n",
       "      <td>71.000000</td>\n",
       "      <td>360.0</td>\n",
       "      <td>1.0</td>\n",
       "      <td>Rural</td>\n",
       "      <td>1</td>\n",
       "      <td>1.0</td>\n",
       "      <td>0.0</td>\n",
       "      <td>0.0</td>\n",
       "    </tr>\n",
       "    <tr>\n",
       "      <td>610</td>\n",
       "      <td>LP002979</td>\n",
       "      <td>1</td>\n",
       "      <td>1</td>\n",
       "      <td>3</td>\n",
       "      <td>0</td>\n",
       "      <td>0</td>\n",
       "      <td>4106</td>\n",
       "      <td>0.0</td>\n",
       "      <td>40.000000</td>\n",
       "      <td>180.0</td>\n",
       "      <td>1.0</td>\n",
       "      <td>Rural</td>\n",
       "      <td>1</td>\n",
       "      <td>1.0</td>\n",
       "      <td>0.0</td>\n",
       "      <td>0.0</td>\n",
       "    </tr>\n",
       "    <tr>\n",
       "      <td>611</td>\n",
       "      <td>LP002983</td>\n",
       "      <td>1</td>\n",
       "      <td>1</td>\n",
       "      <td>1</td>\n",
       "      <td>0</td>\n",
       "      <td>0</td>\n",
       "      <td>8072</td>\n",
       "      <td>240.0</td>\n",
       "      <td>253.000000</td>\n",
       "      <td>360.0</td>\n",
       "      <td>1.0</td>\n",
       "      <td>Urban</td>\n",
       "      <td>1</td>\n",
       "      <td>0.0</td>\n",
       "      <td>0.0</td>\n",
       "      <td>1.0</td>\n",
       "    </tr>\n",
       "    <tr>\n",
       "      <td>612</td>\n",
       "      <td>LP002984</td>\n",
       "      <td>1</td>\n",
       "      <td>1</td>\n",
       "      <td>2</td>\n",
       "      <td>0</td>\n",
       "      <td>0</td>\n",
       "      <td>7583</td>\n",
       "      <td>0.0</td>\n",
       "      <td>187.000000</td>\n",
       "      <td>360.0</td>\n",
       "      <td>1.0</td>\n",
       "      <td>Urban</td>\n",
       "      <td>1</td>\n",
       "      <td>0.0</td>\n",
       "      <td>0.0</td>\n",
       "      <td>1.0</td>\n",
       "    </tr>\n",
       "    <tr>\n",
       "      <td>613</td>\n",
       "      <td>LP002990</td>\n",
       "      <td>0</td>\n",
       "      <td>0</td>\n",
       "      <td>0</td>\n",
       "      <td>0</td>\n",
       "      <td>1</td>\n",
       "      <td>4583</td>\n",
       "      <td>0.0</td>\n",
       "      <td>133.000000</td>\n",
       "      <td>360.0</td>\n",
       "      <td>0.0</td>\n",
       "      <td>Semiurban</td>\n",
       "      <td>0</td>\n",
       "      <td>0.0</td>\n",
       "      <td>1.0</td>\n",
       "      <td>0.0</td>\n",
       "    </tr>\n",
       "  </tbody>\n",
       "</table>\n",
       "<p>614 rows × 16 columns</p>\n",
       "</div>"
      ],
      "text/plain": [
       "      Loan_ID  Gender  Married Dependents  Education  Self_Employed  \\\n",
       "0    LP001002       1        0          0          0              0   \n",
       "1    LP001003       1        1          1          0              0   \n",
       "2    LP001005       1        1          0          0              1   \n",
       "3    LP001006       1        1          0          1              0   \n",
       "4    LP001008       1        0          0          0              0   \n",
       "..        ...     ...      ...        ...        ...            ...   \n",
       "609  LP002978       0        0          0          0              0   \n",
       "610  LP002979       1        1          3          0              0   \n",
       "611  LP002983       1        1          1          0              0   \n",
       "612  LP002984       1        1          2          0              0   \n",
       "613  LP002990       0        0          0          0              1   \n",
       "\n",
       "     ApplicantIncome  CoapplicantIncome  LoanAmount  Loan_Amount_Term  \\\n",
       "0               5849                0.0  146.412162             360.0   \n",
       "1               4583             1508.0  128.000000             360.0   \n",
       "2               3000                0.0   66.000000             360.0   \n",
       "3               2583             2358.0  120.000000             360.0   \n",
       "4               6000                0.0  141.000000             360.0   \n",
       "..               ...                ...         ...               ...   \n",
       "609             2900                0.0   71.000000             360.0   \n",
       "610             4106                0.0   40.000000             180.0   \n",
       "611             8072              240.0  253.000000             360.0   \n",
       "612             7583                0.0  187.000000             360.0   \n",
       "613             4583                0.0  133.000000             360.0   \n",
       "\n",
       "     Credit_History Property_Area  Loan_Status    0    1    2  \n",
       "0               1.0         Urban            1  0.0  0.0  1.0  \n",
       "1               1.0         Rural            0  1.0  0.0  0.0  \n",
       "2               1.0         Urban            1  0.0  0.0  1.0  \n",
       "3               1.0         Urban            1  0.0  0.0  1.0  \n",
       "4               1.0         Urban            1  0.0  0.0  1.0  \n",
       "..              ...           ...          ...  ...  ...  ...  \n",
       "609             1.0         Rural            1  1.0  0.0  0.0  \n",
       "610             1.0         Rural            1  1.0  0.0  0.0  \n",
       "611             1.0         Urban            1  0.0  0.0  1.0  \n",
       "612             1.0         Urban            1  0.0  0.0  1.0  \n",
       "613             0.0     Semiurban            0  0.0  1.0  0.0  \n",
       "\n",
       "[614 rows x 16 columns]"
      ]
     },
     "execution_count": 17,
     "metadata": {},
     "output_type": "execute_result"
    }
   ],
   "source": [
    "data_new"
   ]
  },
  {
   "cell_type": "markdown",
   "metadata": {},
   "source": [
    "# DATA SPLITTING, DEPENDENT AND INDEPENDENT VARIABLES"
   ]
  },
  {
   "cell_type": "code",
   "execution_count": 14,
   "metadata": {},
   "outputs": [],
   "source": [
    "X = df_new.loc[:,['Gender','Married','Dependents','Education','Self_Employed','ApplicantIncome','CoapplicantIncome','LoanAmount','Loan_Amount_Term','Credit_History',0,1,2]]\n",
    "y = df['Loan_Status']"
   ]
  },
  {
   "cell_type": "code",
   "execution_count": 15,
   "metadata": {},
   "outputs": [
    {
     "data": {
      "text/html": [
       "<div>\n",
       "<style scoped>\n",
       "    .dataframe tbody tr th:only-of-type {\n",
       "        vertical-align: middle;\n",
       "    }\n",
       "\n",
       "    .dataframe tbody tr th {\n",
       "        vertical-align: top;\n",
       "    }\n",
       "\n",
       "    .dataframe thead th {\n",
       "        text-align: right;\n",
       "    }\n",
       "</style>\n",
       "<table border=\"1\" class=\"dataframe\">\n",
       "  <thead>\n",
       "    <tr style=\"text-align: right;\">\n",
       "      <th></th>\n",
       "      <th>Gender</th>\n",
       "      <th>Married</th>\n",
       "      <th>Dependents</th>\n",
       "      <th>Education</th>\n",
       "      <th>Self_Employed</th>\n",
       "      <th>ApplicantIncome</th>\n",
       "      <th>CoapplicantIncome</th>\n",
       "      <th>LoanAmount</th>\n",
       "      <th>Loan_Amount_Term</th>\n",
       "      <th>Credit_History</th>\n",
       "      <th>0</th>\n",
       "      <th>1</th>\n",
       "      <th>2</th>\n",
       "    </tr>\n",
       "  </thead>\n",
       "  <tbody>\n",
       "    <tr>\n",
       "      <td>0</td>\n",
       "      <td>1</td>\n",
       "      <td>0</td>\n",
       "      <td>0</td>\n",
       "      <td>0</td>\n",
       "      <td>0</td>\n",
       "      <td>5849</td>\n",
       "      <td>0.0</td>\n",
       "      <td>146.412162</td>\n",
       "      <td>360.0</td>\n",
       "      <td>1.0</td>\n",
       "      <td>0.0</td>\n",
       "      <td>0.0</td>\n",
       "      <td>1.0</td>\n",
       "    </tr>\n",
       "    <tr>\n",
       "      <td>1</td>\n",
       "      <td>1</td>\n",
       "      <td>1</td>\n",
       "      <td>1</td>\n",
       "      <td>0</td>\n",
       "      <td>0</td>\n",
       "      <td>4583</td>\n",
       "      <td>1508.0</td>\n",
       "      <td>128.000000</td>\n",
       "      <td>360.0</td>\n",
       "      <td>1.0</td>\n",
       "      <td>1.0</td>\n",
       "      <td>0.0</td>\n",
       "      <td>0.0</td>\n",
       "    </tr>\n",
       "    <tr>\n",
       "      <td>2</td>\n",
       "      <td>1</td>\n",
       "      <td>1</td>\n",
       "      <td>0</td>\n",
       "      <td>0</td>\n",
       "      <td>1</td>\n",
       "      <td>3000</td>\n",
       "      <td>0.0</td>\n",
       "      <td>66.000000</td>\n",
       "      <td>360.0</td>\n",
       "      <td>1.0</td>\n",
       "      <td>0.0</td>\n",
       "      <td>0.0</td>\n",
       "      <td>1.0</td>\n",
       "    </tr>\n",
       "    <tr>\n",
       "      <td>3</td>\n",
       "      <td>1</td>\n",
       "      <td>1</td>\n",
       "      <td>0</td>\n",
       "      <td>1</td>\n",
       "      <td>0</td>\n",
       "      <td>2583</td>\n",
       "      <td>2358.0</td>\n",
       "      <td>120.000000</td>\n",
       "      <td>360.0</td>\n",
       "      <td>1.0</td>\n",
       "      <td>0.0</td>\n",
       "      <td>0.0</td>\n",
       "      <td>1.0</td>\n",
       "    </tr>\n",
       "    <tr>\n",
       "      <td>4</td>\n",
       "      <td>1</td>\n",
       "      <td>0</td>\n",
       "      <td>0</td>\n",
       "      <td>0</td>\n",
       "      <td>0</td>\n",
       "      <td>6000</td>\n",
       "      <td>0.0</td>\n",
       "      <td>141.000000</td>\n",
       "      <td>360.0</td>\n",
       "      <td>1.0</td>\n",
       "      <td>0.0</td>\n",
       "      <td>0.0</td>\n",
       "      <td>1.0</td>\n",
       "    </tr>\n",
       "    <tr>\n",
       "      <td>...</td>\n",
       "      <td>...</td>\n",
       "      <td>...</td>\n",
       "      <td>...</td>\n",
       "      <td>...</td>\n",
       "      <td>...</td>\n",
       "      <td>...</td>\n",
       "      <td>...</td>\n",
       "      <td>...</td>\n",
       "      <td>...</td>\n",
       "      <td>...</td>\n",
       "      <td>...</td>\n",
       "      <td>...</td>\n",
       "      <td>...</td>\n",
       "    </tr>\n",
       "    <tr>\n",
       "      <td>609</td>\n",
       "      <td>0</td>\n",
       "      <td>0</td>\n",
       "      <td>0</td>\n",
       "      <td>0</td>\n",
       "      <td>0</td>\n",
       "      <td>2900</td>\n",
       "      <td>0.0</td>\n",
       "      <td>71.000000</td>\n",
       "      <td>360.0</td>\n",
       "      <td>1.0</td>\n",
       "      <td>1.0</td>\n",
       "      <td>0.0</td>\n",
       "      <td>0.0</td>\n",
       "    </tr>\n",
       "    <tr>\n",
       "      <td>610</td>\n",
       "      <td>1</td>\n",
       "      <td>1</td>\n",
       "      <td>3</td>\n",
       "      <td>0</td>\n",
       "      <td>0</td>\n",
       "      <td>4106</td>\n",
       "      <td>0.0</td>\n",
       "      <td>40.000000</td>\n",
       "      <td>180.0</td>\n",
       "      <td>1.0</td>\n",
       "      <td>1.0</td>\n",
       "      <td>0.0</td>\n",
       "      <td>0.0</td>\n",
       "    </tr>\n",
       "    <tr>\n",
       "      <td>611</td>\n",
       "      <td>1</td>\n",
       "      <td>1</td>\n",
       "      <td>1</td>\n",
       "      <td>0</td>\n",
       "      <td>0</td>\n",
       "      <td>8072</td>\n",
       "      <td>240.0</td>\n",
       "      <td>253.000000</td>\n",
       "      <td>360.0</td>\n",
       "      <td>1.0</td>\n",
       "      <td>0.0</td>\n",
       "      <td>0.0</td>\n",
       "      <td>1.0</td>\n",
       "    </tr>\n",
       "    <tr>\n",
       "      <td>612</td>\n",
       "      <td>1</td>\n",
       "      <td>1</td>\n",
       "      <td>2</td>\n",
       "      <td>0</td>\n",
       "      <td>0</td>\n",
       "      <td>7583</td>\n",
       "      <td>0.0</td>\n",
       "      <td>187.000000</td>\n",
       "      <td>360.0</td>\n",
       "      <td>1.0</td>\n",
       "      <td>0.0</td>\n",
       "      <td>0.0</td>\n",
       "      <td>1.0</td>\n",
       "    </tr>\n",
       "    <tr>\n",
       "      <td>613</td>\n",
       "      <td>0</td>\n",
       "      <td>0</td>\n",
       "      <td>0</td>\n",
       "      <td>0</td>\n",
       "      <td>1</td>\n",
       "      <td>4583</td>\n",
       "      <td>0.0</td>\n",
       "      <td>133.000000</td>\n",
       "      <td>360.0</td>\n",
       "      <td>0.0</td>\n",
       "      <td>0.0</td>\n",
       "      <td>1.0</td>\n",
       "      <td>0.0</td>\n",
       "    </tr>\n",
       "  </tbody>\n",
       "</table>\n",
       "<p>614 rows × 13 columns</p>\n",
       "</div>"
      ],
      "text/plain": [
       "     Gender  Married Dependents  Education  Self_Employed  ApplicantIncome  \\\n",
       "0         1        0          0          0              0             5849   \n",
       "1         1        1          1          0              0             4583   \n",
       "2         1        1          0          0              1             3000   \n",
       "3         1        1          0          1              0             2583   \n",
       "4         1        0          0          0              0             6000   \n",
       "..      ...      ...        ...        ...            ...              ...   \n",
       "609       0        0          0          0              0             2900   \n",
       "610       1        1          3          0              0             4106   \n",
       "611       1        1          1          0              0             8072   \n",
       "612       1        1          2          0              0             7583   \n",
       "613       0        0          0          0              1             4583   \n",
       "\n",
       "     CoapplicantIncome  LoanAmount  Loan_Amount_Term  Credit_History    0  \\\n",
       "0                  0.0  146.412162             360.0             1.0  0.0   \n",
       "1               1508.0  128.000000             360.0             1.0  1.0   \n",
       "2                  0.0   66.000000             360.0             1.0  0.0   \n",
       "3               2358.0  120.000000             360.0             1.0  0.0   \n",
       "4                  0.0  141.000000             360.0             1.0  0.0   \n",
       "..                 ...         ...               ...             ...  ...   \n",
       "609                0.0   71.000000             360.0             1.0  1.0   \n",
       "610                0.0   40.000000             180.0             1.0  1.0   \n",
       "611              240.0  253.000000             360.0             1.0  0.0   \n",
       "612                0.0  187.000000             360.0             1.0  0.0   \n",
       "613                0.0  133.000000             360.0             0.0  0.0   \n",
       "\n",
       "       1    2  \n",
       "0    0.0  1.0  \n",
       "1    0.0  0.0  \n",
       "2    0.0  1.0  \n",
       "3    0.0  1.0  \n",
       "4    0.0  1.0  \n",
       "..   ...  ...  \n",
       "609  0.0  0.0  \n",
       "610  0.0  0.0  \n",
       "611  0.0  1.0  \n",
       "612  0.0  1.0  \n",
       "613  1.0  0.0  \n",
       "\n",
       "[614 rows x 13 columns]"
      ]
     },
     "execution_count": 15,
     "metadata": {},
     "output_type": "execute_result"
    }
   ],
   "source": [
    "X"
   ]
  },
  {
   "cell_type": "code",
   "execution_count": 16,
   "metadata": {},
   "outputs": [
    {
     "data": {
      "text/plain": [
       "0      1\n",
       "1      0\n",
       "2      1\n",
       "3      1\n",
       "4      1\n",
       "      ..\n",
       "609    1\n",
       "610    1\n",
       "611    1\n",
       "612    1\n",
       "613    0\n",
       "Name: Loan_Status, Length: 614, dtype: int32"
      ]
     },
     "execution_count": 16,
     "metadata": {},
     "output_type": "execute_result"
    }
   ],
   "source": [
    "y"
   ]
  },
  {
   "cell_type": "markdown",
   "metadata": {},
   "source": [
    "# DATA SPLITTING, TRAIN AND TEST"
   ]
  },
  {
   "cell_type": "code",
   "execution_count": 17,
   "metadata": {},
   "outputs": [],
   "source": [
    "from sklearn.model_selection import train_test_split\n",
    "train_X,test_X,train_y,test_y = train_test_split(X, y,train_size=0.5,test_size=0.5,random_state=123) "
   ]
  },
  {
   "cell_type": "markdown",
   "metadata": {},
   "source": [
    "# DATA PREPROCESSING"
   ]
  },
  {
   "cell_type": "code",
   "execution_count": 18,
   "metadata": {},
   "outputs": [],
   "source": [
    "from sklearn.preprocessing import scale,MinMaxScaler\n",
    "min_max = MinMaxScaler()"
   ]
  },
  {
   "cell_type": "code",
   "execution_count": 19,
   "metadata": {},
   "outputs": [],
   "source": [
    "x_train_minMax = min_max.fit_transform(train_X)\n",
    "x_test_minMax = min_max.fit_transform(test_X)"
   ]
  },
  {
   "cell_type": "code",
   "execution_count": null,
   "metadata": {},
   "outputs": [],
   "source": []
  },
  {
   "cell_type": "markdown",
   "metadata": {},
   "source": [
    "# DECISION TREE ALGORITHM "
   ]
  },
  {
   "cell_type": "code",
   "execution_count": 20,
   "metadata": {},
   "outputs": [],
   "source": [
    "from sklearn.tree import DecisionTreeClassifier\n",
    "tree = DecisionTreeClassifier(criterion='gini',max_depth=None)"
   ]
  },
  {
   "cell_type": "code",
   "execution_count": 21,
   "metadata": {},
   "outputs": [
    {
     "data": {
      "text/plain": [
       "DecisionTreeClassifier(class_weight=None, criterion='gini', max_depth=None,\n",
       "                       max_features=None, max_leaf_nodes=None,\n",
       "                       min_impurity_decrease=0.0, min_impurity_split=None,\n",
       "                       min_samples_leaf=1, min_samples_split=2,\n",
       "                       min_weight_fraction_leaf=0.0, presort=False,\n",
       "                       random_state=None, splitter='best')"
      ]
     },
     "execution_count": 21,
     "metadata": {},
     "output_type": "execute_result"
    }
   ],
   "source": [
    "tree.fit(x_train_minMax,train_y)"
   ]
  },
  {
   "cell_type": "code",
   "execution_count": 22,
   "metadata": {},
   "outputs": [],
   "source": [
    "prediction = tree.predict(x_test_minMax)"
   ]
  },
  {
   "cell_type": "code",
   "execution_count": 23,
   "metadata": {},
   "outputs": [
    {
     "name": "stdout",
     "output_type": "stream",
     "text": [
      "[[ 47  56]\n",
      " [ 51 153]]\n"
     ]
    }
   ],
   "source": [
    "from sklearn.metrics import confusion_matrix\n",
    "print(confusion_matrix(test_y,prediction))"
   ]
  },
  {
   "cell_type": "code",
   "execution_count": 24,
   "metadata": {},
   "outputs": [],
   "source": [
    "param_dist = {'criterion': ['gini','entropy'], 'max_depth': [1,2,3,4,5,6,7,None]} "
   ]
  },
  {
   "cell_type": "code",
   "execution_count": 25,
   "metadata": {},
   "outputs": [],
   "source": [
    "from sklearn.model_selection import GridSearchCV "
   ]
  },
  {
   "cell_type": "code",
   "execution_count": 26,
   "metadata": {},
   "outputs": [],
   "source": [
    "grid = GridSearchCV(tree, param_grid=param_dist, cv=10, n_jobs=-1) "
   ]
  },
  {
   "cell_type": "code",
   "execution_count": 27,
   "metadata": {},
   "outputs": [
    {
     "name": "stderr",
     "output_type": "stream",
     "text": [
      "C:\\Users\\MATTHEW\\Anaconda3\\lib\\site-packages\\sklearn\\model_selection\\_search.py:814: DeprecationWarning: The default of the `iid` parameter will change from True to False in version 0.22 and will be removed in 0.24. This will change numeric results when test-set sizes are unequal.\n",
      "  DeprecationWarning)\n"
     ]
    },
    {
     "data": {
      "text/plain": [
       "GridSearchCV(cv=10, error_score='raise-deprecating',\n",
       "             estimator=DecisionTreeClassifier(class_weight=None,\n",
       "                                              criterion='gini', max_depth=None,\n",
       "                                              max_features=None,\n",
       "                                              max_leaf_nodes=None,\n",
       "                                              min_impurity_decrease=0.0,\n",
       "                                              min_impurity_split=None,\n",
       "                                              min_samples_leaf=1,\n",
       "                                              min_samples_split=2,\n",
       "                                              min_weight_fraction_leaf=0.0,\n",
       "                                              presort=False, random_state=None,\n",
       "                                              splitter='best'),\n",
       "             iid='warn', n_jobs=-1,\n",
       "             param_grid={'criterion': ['gini', 'entropy'],\n",
       "                         'max_depth': [1, 2, 3, 4, 5, 6, 7, None]},\n",
       "             pre_dispatch='2*n_jobs', refit=True, return_train_score=False,\n",
       "             scoring=None, verbose=0)"
      ]
     },
     "execution_count": 27,
     "metadata": {},
     "output_type": "execute_result"
    }
   ],
   "source": [
    "grid.fit(x_train_minMax,train_y)"
   ]
  },
  {
   "cell_type": "code",
   "execution_count": 28,
   "metadata": {},
   "outputs": [
    {
     "data": {
      "text/plain": [
       "{'criterion': 'gini', 'max_depth': 1}"
      ]
     },
     "execution_count": 28,
     "metadata": {},
     "output_type": "execute_result"
    }
   ],
   "source": [
    "grid.best_params_"
   ]
  },
  {
   "cell_type": "code",
   "execution_count": 29,
   "metadata": {},
   "outputs": [
    {
     "data": {
      "text/plain": [
       "DecisionTreeClassifier(class_weight=None, criterion='gini', max_depth=1,\n",
       "                       max_features=None, max_leaf_nodes=None,\n",
       "                       min_impurity_decrease=0.0, min_impurity_split=None,\n",
       "                       min_samples_leaf=1, min_samples_split=2,\n",
       "                       min_weight_fraction_leaf=0.0, presort=False,\n",
       "                       random_state=None, splitter='best')"
      ]
     },
     "execution_count": 29,
     "metadata": {},
     "output_type": "execute_result"
    }
   ],
   "source": [
    "grid.best_estimator_"
   ]
  },
  {
   "cell_type": "code",
   "execution_count": 30,
   "metadata": {},
   "outputs": [],
   "source": [
    "grid_predictions = grid.predict(x_test_minMax)"
   ]
  },
  {
   "cell_type": "code",
   "execution_count": 31,
   "metadata": {},
   "outputs": [
    {
     "name": "stdout",
     "output_type": "stream",
     "text": [
      "[[ 43  60]\n",
      " [  4 200]] \n",
      " with accuracy  0.8273615635179153\n"
     ]
    }
   ],
   "source": [
    "print(confusion_matrix(test_y,grid_predictions),'\\n with accuracy ',grid.best_score_)"
   ]
  },
  {
   "cell_type": "markdown",
   "metadata": {},
   "source": [
    "# KNN ALGORITHM "
   ]
  },
  {
   "cell_type": "code",
   "execution_count": 32,
   "metadata": {},
   "outputs": [],
   "source": [
    "from sklearn.neighbors import KNeighborsClassifier\n",
    "\n",
    "Knn = KNeighborsClassifier(algorithm='auto', leaf_size=30, metric='minkowski',\n",
    "                     metric_params=None, n_jobs=None, n_neighbors=5, p=2,\n",
    "                     weights='uniform')"
   ]
  },
  {
   "cell_type": "code",
   "execution_count": 33,
   "metadata": {},
   "outputs": [
    {
     "data": {
      "text/plain": [
       "KNeighborsClassifier(algorithm='auto', leaf_size=30, metric='minkowski',\n",
       "                     metric_params=None, n_jobs=None, n_neighbors=5, p=2,\n",
       "                     weights='uniform')"
      ]
     },
     "execution_count": 33,
     "metadata": {},
     "output_type": "execute_result"
    }
   ],
   "source": [
    "Knn.fit(train_X,train_y)"
   ]
  },
  {
   "cell_type": "code",
   "execution_count": 34,
   "metadata": {},
   "outputs": [],
   "source": [
    "K_prediction = Knn.predict(test_X)"
   ]
  },
  {
   "cell_type": "code",
   "execution_count": 35,
   "metadata": {},
   "outputs": [
    {
     "name": "stdout",
     "output_type": "stream",
     "text": [
      "[[ 12  91]\n",
      " [ 29 175]]\n"
     ]
    }
   ],
   "source": [
    "print(confusion_matrix(test_y,K_prediction))"
   ]
  },
  {
   "cell_type": "code",
   "execution_count": 36,
   "metadata": {},
   "outputs": [],
   "source": [
    "param_distK = {'n_neighbors' : [5,7,9,11,13,15],\n",
    "               'weights' : ['uniform','distance'],\n",
    "               'metric' : ['minkowski','euclidean','manhattan']} "
   ]
  },
  {
   "cell_type": "code",
   "execution_count": 37,
   "metadata": {},
   "outputs": [],
   "source": [
    "K_grid = GridSearchCV(KNeighborsClassifier(), param_distK, verbose = 1, cv=3, n_jobs = -1)"
   ]
  },
  {
   "cell_type": "code",
   "execution_count": 38,
   "metadata": {},
   "outputs": [
    {
     "name": "stdout",
     "output_type": "stream",
     "text": [
      "Fitting 3 folds for each of 36 candidates, totalling 108 fits\n"
     ]
    },
    {
     "name": "stderr",
     "output_type": "stream",
     "text": [
      "[Parallel(n_jobs=-1)]: Using backend LokyBackend with 4 concurrent workers.\n",
      "[Parallel(n_jobs=-1)]: Done 108 out of 108 | elapsed:    0.3s finished\n",
      "C:\\Users\\MATTHEW\\Anaconda3\\lib\\site-packages\\sklearn\\model_selection\\_search.py:814: DeprecationWarning: The default of the `iid` parameter will change from True to False in version 0.22 and will be removed in 0.24. This will change numeric results when test-set sizes are unequal.\n",
      "  DeprecationWarning)\n"
     ]
    },
    {
     "data": {
      "text/plain": [
       "GridSearchCV(cv=3, error_score='raise-deprecating',\n",
       "             estimator=KNeighborsClassifier(algorithm='auto', leaf_size=30,\n",
       "                                            metric='minkowski',\n",
       "                                            metric_params=None, n_jobs=None,\n",
       "                                            n_neighbors=5, p=2,\n",
       "                                            weights='uniform'),\n",
       "             iid='warn', n_jobs=-1,\n",
       "             param_grid={'metric': ['minkowski', 'euclidean', 'manhattan'],\n",
       "                         'n_neighbors': [5, 7, 9, 11, 13, 15],\n",
       "                         'weights': ['uniform', 'distance']},\n",
       "             pre_dispatch='2*n_jobs', refit=True, return_train_score=False,\n",
       "             scoring=None, verbose=1)"
      ]
     },
     "execution_count": 38,
     "metadata": {},
     "output_type": "execute_result"
    }
   ],
   "source": [
    "K_grid.fit(train_X,train_y)"
   ]
  },
  {
   "cell_type": "code",
   "execution_count": 39,
   "metadata": {},
   "outputs": [
    {
     "data": {
      "text/plain": [
       "{'metric': 'minkowski', 'n_neighbors': 11, 'weights': 'uniform'}"
      ]
     },
     "execution_count": 39,
     "metadata": {},
     "output_type": "execute_result"
    }
   ],
   "source": [
    "K_grid.best_params_"
   ]
  },
  {
   "cell_type": "code",
   "execution_count": 40,
   "metadata": {},
   "outputs": [
    {
     "data": {
      "text/plain": [
       "KNeighborsClassifier(algorithm='auto', leaf_size=30, metric='minkowski',\n",
       "                     metric_params=None, n_jobs=None, n_neighbors=11, p=2,\n",
       "                     weights='uniform')"
      ]
     },
     "execution_count": 40,
     "metadata": {},
     "output_type": "execute_result"
    }
   ],
   "source": [
    "K_grid.best_estimator_"
   ]
  },
  {
   "cell_type": "code",
   "execution_count": 41,
   "metadata": {},
   "outputs": [],
   "source": [
    "grid_predictionsK = K_grid.predict(test_X)"
   ]
  },
  {
   "cell_type": "code",
   "execution_count": 42,
   "metadata": {},
   "outputs": [
    {
     "name": "stdout",
     "output_type": "stream",
     "text": [
      "[[ 10  93]\n",
      " [ 18 186]] \n",
      " with accuracy  0.742671009771987\n"
     ]
    }
   ],
   "source": [
    "print(confusion_matrix(test_y,grid_predictionsK),'\\n with accuracy ',K_grid.best_score_)"
   ]
  },
  {
   "cell_type": "markdown",
   "metadata": {},
   "source": [
    "# REGRESSION ALGORITHM "
   ]
  },
  {
   "cell_type": "code",
   "execution_count": 43,
   "metadata": {},
   "outputs": [],
   "source": [
    "import numpy as np\n",
    "from sklearn.linear_model import LogisticRegression\n",
    "\n",
    "logReg = LogisticRegression()"
   ]
  },
  {
   "cell_type": "code",
   "execution_count": 44,
   "metadata": {},
   "outputs": [
    {
     "name": "stderr",
     "output_type": "stream",
     "text": [
      "C:\\Users\\MATTHEW\\Anaconda3\\lib\\site-packages\\sklearn\\linear_model\\logistic.py:432: FutureWarning: Default solver will be changed to 'lbfgs' in 0.22. Specify a solver to silence this warning.\n",
      "  FutureWarning)\n"
     ]
    },
    {
     "data": {
      "text/plain": [
       "LogisticRegression(C=1.0, class_weight=None, dual=False, fit_intercept=True,\n",
       "                   intercept_scaling=1, l1_ratio=None, max_iter=100,\n",
       "                   multi_class='warn', n_jobs=None, penalty='l2',\n",
       "                   random_state=None, solver='warn', tol=0.0001, verbose=0,\n",
       "                   warm_start=False)"
      ]
     },
     "execution_count": 44,
     "metadata": {},
     "output_type": "execute_result"
    }
   ],
   "source": [
    "logReg.fit(train_X,train_y)"
   ]
  },
  {
   "cell_type": "code",
   "execution_count": 45,
   "metadata": {},
   "outputs": [],
   "source": [
    "Reg_prediction = logReg.predict(test_X)"
   ]
  },
  {
   "cell_type": "code",
   "execution_count": 46,
   "metadata": {},
   "outputs": [
    {
     "name": "stdout",
     "output_type": "stream",
     "text": [
      "[[ 44  59]\n",
      " [  4 200]]\n"
     ]
    }
   ],
   "source": [
    "print(confusion_matrix(test_y,Reg_prediction))"
   ]
  },
  {
   "cell_type": "code",
   "execution_count": 47,
   "metadata": {},
   "outputs": [],
   "source": [
    "param_dist_reg = {'penalty' : ['l1', 'l2', 'elasticnet', 'none'],\n",
    "    'C' : np.logspace(-4, 4, 20),\n",
    "    'solver' : ['lbfgs','newton-cg','liblinear','sag','saga'],\n",
    "    'max_iter' : [100, 1000,2500, 5000]\n",
    "    }"
   ]
  },
  {
   "cell_type": "code",
   "execution_count": 48,
   "metadata": {},
   "outputs": [],
   "source": [
    "reg_grid = GridSearchCV(logReg, param_grid = param_dist_reg, verbose = 1, cv=3, n_jobs = -1)"
   ]
  },
  {
   "cell_type": "code",
   "execution_count": 49,
   "metadata": {},
   "outputs": [
    {
     "name": "stdout",
     "output_type": "stream",
     "text": [
      "Fitting 3 folds for each of 1600 candidates, totalling 4800 fits\n"
     ]
    },
    {
     "name": "stderr",
     "output_type": "stream",
     "text": [
      "[Parallel(n_jobs=-1)]: Using backend LokyBackend with 4 concurrent workers.\n"
     ]
    },
    {
     "ename": "ValueError",
     "evalue": "Solver lbfgs supports only 'l2' or 'none' penalties, got l1 penalty.",
     "output_type": "error",
     "traceback": [
      "\u001b[1;31m---------------------------------------------------------------------------\u001b[0m",
      "\u001b[1;31m_RemoteTraceback\u001b[0m                          Traceback (most recent call last)",
      "\u001b[1;31m_RemoteTraceback\u001b[0m: \n\"\"\"\nTraceback (most recent call last):\n  File \"C:\\Users\\MATTHEW\\Anaconda3\\lib\\site-packages\\joblib\\externals\\loky\\process_executor.py\", line 418, in _process_worker\n    r = call_item()\n  File \"C:\\Users\\MATTHEW\\Anaconda3\\lib\\site-packages\\joblib\\externals\\loky\\process_executor.py\", line 272, in __call__\n    return self.fn(*self.args, **self.kwargs)\n  File \"C:\\Users\\MATTHEW\\Anaconda3\\lib\\site-packages\\joblib\\_parallel_backends.py\", line 567, in __call__\n    return self.func(*args, **kwargs)\n  File \"C:\\Users\\MATTHEW\\Anaconda3\\lib\\site-packages\\joblib\\parallel.py\", line 225, in __call__\n    for func, args, kwargs in self.items]\n  File \"C:\\Users\\MATTHEW\\Anaconda3\\lib\\site-packages\\joblib\\parallel.py\", line 225, in <listcomp>\n    for func, args, kwargs in self.items]\n  File \"C:\\Users\\MATTHEW\\Anaconda3\\lib\\site-packages\\sklearn\\model_selection\\_validation.py\", line 516, in _fit_and_score\n    estimator.fit(X_train, y_train, **fit_params)\n  File \"C:\\Users\\MATTHEW\\Anaconda3\\lib\\site-packages\\sklearn\\linear_model\\logistic.py\", line 1493, in fit\n    solver = _check_solver(self.solver, self.penalty, self.dual)\n  File \"C:\\Users\\MATTHEW\\Anaconda3\\lib\\site-packages\\sklearn\\linear_model\\logistic.py\", line 446, in _check_solver\n    \"got %s penalty.\" % (solver, penalty))\nValueError: Solver lbfgs supports only 'l2' or 'none' penalties, got l1 penalty.\n\"\"\"",
      "\nThe above exception was the direct cause of the following exception:\n",
      "\u001b[1;31mValueError\u001b[0m                                Traceback (most recent call last)",
      "\u001b[1;32m<ipython-input-49-da563d0cc4bf>\u001b[0m in \u001b[0;36m<module>\u001b[1;34m\u001b[0m\n\u001b[1;32m----> 1\u001b[1;33m \u001b[0mreg_grid\u001b[0m\u001b[1;33m.\u001b[0m\u001b[0mfit\u001b[0m\u001b[1;33m(\u001b[0m\u001b[0mtrain_X\u001b[0m\u001b[1;33m,\u001b[0m\u001b[0mtrain_y\u001b[0m\u001b[1;33m)\u001b[0m\u001b[1;33m\u001b[0m\u001b[1;33m\u001b[0m\u001b[0m\n\u001b[0m",
      "\u001b[1;32m~\\Anaconda3\\lib\\site-packages\\sklearn\\model_selection\\_search.py\u001b[0m in \u001b[0;36mfit\u001b[1;34m(self, X, y, groups, **fit_params)\u001b[0m\n\u001b[0;32m    686\u001b[0m                 \u001b[1;32mreturn\u001b[0m \u001b[0mresults\u001b[0m\u001b[1;33m\u001b[0m\u001b[1;33m\u001b[0m\u001b[0m\n\u001b[0;32m    687\u001b[0m \u001b[1;33m\u001b[0m\u001b[0m\n\u001b[1;32m--> 688\u001b[1;33m             \u001b[0mself\u001b[0m\u001b[1;33m.\u001b[0m\u001b[0m_run_search\u001b[0m\u001b[1;33m(\u001b[0m\u001b[0mevaluate_candidates\u001b[0m\u001b[1;33m)\u001b[0m\u001b[1;33m\u001b[0m\u001b[1;33m\u001b[0m\u001b[0m\n\u001b[0m\u001b[0;32m    689\u001b[0m \u001b[1;33m\u001b[0m\u001b[0m\n\u001b[0;32m    690\u001b[0m         \u001b[1;31m# For multi-metric evaluation, store the best_index_, best_params_ and\u001b[0m\u001b[1;33m\u001b[0m\u001b[1;33m\u001b[0m\u001b[1;33m\u001b[0m\u001b[0m\n",
      "\u001b[1;32m~\\Anaconda3\\lib\\site-packages\\sklearn\\model_selection\\_search.py\u001b[0m in \u001b[0;36m_run_search\u001b[1;34m(self, evaluate_candidates)\u001b[0m\n\u001b[0;32m   1147\u001b[0m     \u001b[1;32mdef\u001b[0m \u001b[0m_run_search\u001b[0m\u001b[1;33m(\u001b[0m\u001b[0mself\u001b[0m\u001b[1;33m,\u001b[0m \u001b[0mevaluate_candidates\u001b[0m\u001b[1;33m)\u001b[0m\u001b[1;33m:\u001b[0m\u001b[1;33m\u001b[0m\u001b[1;33m\u001b[0m\u001b[0m\n\u001b[0;32m   1148\u001b[0m         \u001b[1;34m\"\"\"Search all candidates in param_grid\"\"\"\u001b[0m\u001b[1;33m\u001b[0m\u001b[1;33m\u001b[0m\u001b[0m\n\u001b[1;32m-> 1149\u001b[1;33m         \u001b[0mevaluate_candidates\u001b[0m\u001b[1;33m(\u001b[0m\u001b[0mParameterGrid\u001b[0m\u001b[1;33m(\u001b[0m\u001b[0mself\u001b[0m\u001b[1;33m.\u001b[0m\u001b[0mparam_grid\u001b[0m\u001b[1;33m)\u001b[0m\u001b[1;33m)\u001b[0m\u001b[1;33m\u001b[0m\u001b[1;33m\u001b[0m\u001b[0m\n\u001b[0m\u001b[0;32m   1150\u001b[0m \u001b[1;33m\u001b[0m\u001b[0m\n\u001b[0;32m   1151\u001b[0m \u001b[1;33m\u001b[0m\u001b[0m\n",
      "\u001b[1;32m~\\Anaconda3\\lib\\site-packages\\sklearn\\model_selection\\_search.py\u001b[0m in \u001b[0;36mevaluate_candidates\u001b[1;34m(candidate_params)\u001b[0m\n\u001b[0;32m    665\u001b[0m                                \u001b[1;32mfor\u001b[0m \u001b[0mparameters\u001b[0m\u001b[1;33m,\u001b[0m \u001b[1;33m(\u001b[0m\u001b[0mtrain\u001b[0m\u001b[1;33m,\u001b[0m \u001b[0mtest\u001b[0m\u001b[1;33m)\u001b[0m\u001b[1;33m\u001b[0m\u001b[1;33m\u001b[0m\u001b[0m\n\u001b[0;32m    666\u001b[0m                                in product(candidate_params,\n\u001b[1;32m--> 667\u001b[1;33m                                           cv.split(X, y, groups)))\n\u001b[0m\u001b[0;32m    668\u001b[0m \u001b[1;33m\u001b[0m\u001b[0m\n\u001b[0;32m    669\u001b[0m                 \u001b[1;32mif\u001b[0m \u001b[0mlen\u001b[0m\u001b[1;33m(\u001b[0m\u001b[0mout\u001b[0m\u001b[1;33m)\u001b[0m \u001b[1;33m<\u001b[0m \u001b[1;36m1\u001b[0m\u001b[1;33m:\u001b[0m\u001b[1;33m\u001b[0m\u001b[1;33m\u001b[0m\u001b[0m\n",
      "\u001b[1;32m~\\Anaconda3\\lib\\site-packages\\joblib\\parallel.py\u001b[0m in \u001b[0;36m__call__\u001b[1;34m(self, iterable)\u001b[0m\n\u001b[0;32m    932\u001b[0m \u001b[1;33m\u001b[0m\u001b[0m\n\u001b[0;32m    933\u001b[0m             \u001b[1;32mwith\u001b[0m \u001b[0mself\u001b[0m\u001b[1;33m.\u001b[0m\u001b[0m_backend\u001b[0m\u001b[1;33m.\u001b[0m\u001b[0mretrieval_context\u001b[0m\u001b[1;33m(\u001b[0m\u001b[1;33m)\u001b[0m\u001b[1;33m:\u001b[0m\u001b[1;33m\u001b[0m\u001b[1;33m\u001b[0m\u001b[0m\n\u001b[1;32m--> 934\u001b[1;33m                 \u001b[0mself\u001b[0m\u001b[1;33m.\u001b[0m\u001b[0mretrieve\u001b[0m\u001b[1;33m(\u001b[0m\u001b[1;33m)\u001b[0m\u001b[1;33m\u001b[0m\u001b[1;33m\u001b[0m\u001b[0m\n\u001b[0m\u001b[0;32m    935\u001b[0m             \u001b[1;31m# Make sure that we get a last message telling us we are done\u001b[0m\u001b[1;33m\u001b[0m\u001b[1;33m\u001b[0m\u001b[1;33m\u001b[0m\u001b[0m\n\u001b[0;32m    936\u001b[0m             \u001b[0melapsed_time\u001b[0m \u001b[1;33m=\u001b[0m \u001b[0mtime\u001b[0m\u001b[1;33m.\u001b[0m\u001b[0mtime\u001b[0m\u001b[1;33m(\u001b[0m\u001b[1;33m)\u001b[0m \u001b[1;33m-\u001b[0m \u001b[0mself\u001b[0m\u001b[1;33m.\u001b[0m\u001b[0m_start_time\u001b[0m\u001b[1;33m\u001b[0m\u001b[1;33m\u001b[0m\u001b[0m\n",
      "\u001b[1;32m~\\Anaconda3\\lib\\site-packages\\joblib\\parallel.py\u001b[0m in \u001b[0;36mretrieve\u001b[1;34m(self)\u001b[0m\n\u001b[0;32m    831\u001b[0m             \u001b[1;32mtry\u001b[0m\u001b[1;33m:\u001b[0m\u001b[1;33m\u001b[0m\u001b[1;33m\u001b[0m\u001b[0m\n\u001b[0;32m    832\u001b[0m                 \u001b[1;32mif\u001b[0m \u001b[0mgetattr\u001b[0m\u001b[1;33m(\u001b[0m\u001b[0mself\u001b[0m\u001b[1;33m.\u001b[0m\u001b[0m_backend\u001b[0m\u001b[1;33m,\u001b[0m \u001b[1;34m'supports_timeout'\u001b[0m\u001b[1;33m,\u001b[0m \u001b[1;32mFalse\u001b[0m\u001b[1;33m)\u001b[0m\u001b[1;33m:\u001b[0m\u001b[1;33m\u001b[0m\u001b[1;33m\u001b[0m\u001b[0m\n\u001b[1;32m--> 833\u001b[1;33m                     \u001b[0mself\u001b[0m\u001b[1;33m.\u001b[0m\u001b[0m_output\u001b[0m\u001b[1;33m.\u001b[0m\u001b[0mextend\u001b[0m\u001b[1;33m(\u001b[0m\u001b[0mjob\u001b[0m\u001b[1;33m.\u001b[0m\u001b[0mget\u001b[0m\u001b[1;33m(\u001b[0m\u001b[0mtimeout\u001b[0m\u001b[1;33m=\u001b[0m\u001b[0mself\u001b[0m\u001b[1;33m.\u001b[0m\u001b[0mtimeout\u001b[0m\u001b[1;33m)\u001b[0m\u001b[1;33m)\u001b[0m\u001b[1;33m\u001b[0m\u001b[1;33m\u001b[0m\u001b[0m\n\u001b[0m\u001b[0;32m    834\u001b[0m                 \u001b[1;32melse\u001b[0m\u001b[1;33m:\u001b[0m\u001b[1;33m\u001b[0m\u001b[1;33m\u001b[0m\u001b[0m\n\u001b[0;32m    835\u001b[0m                     \u001b[0mself\u001b[0m\u001b[1;33m.\u001b[0m\u001b[0m_output\u001b[0m\u001b[1;33m.\u001b[0m\u001b[0mextend\u001b[0m\u001b[1;33m(\u001b[0m\u001b[0mjob\u001b[0m\u001b[1;33m.\u001b[0m\u001b[0mget\u001b[0m\u001b[1;33m(\u001b[0m\u001b[1;33m)\u001b[0m\u001b[1;33m)\u001b[0m\u001b[1;33m\u001b[0m\u001b[1;33m\u001b[0m\u001b[0m\n",
      "\u001b[1;32m~\\Anaconda3\\lib\\site-packages\\joblib\\_parallel_backends.py\u001b[0m in \u001b[0;36mwrap_future_result\u001b[1;34m(future, timeout)\u001b[0m\n\u001b[0;32m    519\u001b[0m         AsyncResults.get from multiprocessing.\"\"\"\n\u001b[0;32m    520\u001b[0m         \u001b[1;32mtry\u001b[0m\u001b[1;33m:\u001b[0m\u001b[1;33m\u001b[0m\u001b[1;33m\u001b[0m\u001b[0m\n\u001b[1;32m--> 521\u001b[1;33m             \u001b[1;32mreturn\u001b[0m \u001b[0mfuture\u001b[0m\u001b[1;33m.\u001b[0m\u001b[0mresult\u001b[0m\u001b[1;33m(\u001b[0m\u001b[0mtimeout\u001b[0m\u001b[1;33m=\u001b[0m\u001b[0mtimeout\u001b[0m\u001b[1;33m)\u001b[0m\u001b[1;33m\u001b[0m\u001b[1;33m\u001b[0m\u001b[0m\n\u001b[0m\u001b[0;32m    522\u001b[0m         \u001b[1;32mexcept\u001b[0m \u001b[0mLokyTimeoutError\u001b[0m\u001b[1;33m:\u001b[0m\u001b[1;33m\u001b[0m\u001b[1;33m\u001b[0m\u001b[0m\n\u001b[0;32m    523\u001b[0m             \u001b[1;32mraise\u001b[0m \u001b[0mTimeoutError\u001b[0m\u001b[1;33m(\u001b[0m\u001b[1;33m)\u001b[0m\u001b[1;33m\u001b[0m\u001b[1;33m\u001b[0m\u001b[0m\n",
      "\u001b[1;32m~\\Anaconda3\\lib\\concurrent\\futures\\_base.py\u001b[0m in \u001b[0;36mresult\u001b[1;34m(self, timeout)\u001b[0m\n\u001b[0;32m    433\u001b[0m                 \u001b[1;32mraise\u001b[0m \u001b[0mCancelledError\u001b[0m\u001b[1;33m(\u001b[0m\u001b[1;33m)\u001b[0m\u001b[1;33m\u001b[0m\u001b[1;33m\u001b[0m\u001b[0m\n\u001b[0;32m    434\u001b[0m             \u001b[1;32melif\u001b[0m \u001b[0mself\u001b[0m\u001b[1;33m.\u001b[0m\u001b[0m_state\u001b[0m \u001b[1;33m==\u001b[0m \u001b[0mFINISHED\u001b[0m\u001b[1;33m:\u001b[0m\u001b[1;33m\u001b[0m\u001b[1;33m\u001b[0m\u001b[0m\n\u001b[1;32m--> 435\u001b[1;33m                 \u001b[1;32mreturn\u001b[0m \u001b[0mself\u001b[0m\u001b[1;33m.\u001b[0m\u001b[0m__get_result\u001b[0m\u001b[1;33m(\u001b[0m\u001b[1;33m)\u001b[0m\u001b[1;33m\u001b[0m\u001b[1;33m\u001b[0m\u001b[0m\n\u001b[0m\u001b[0;32m    436\u001b[0m             \u001b[1;32melse\u001b[0m\u001b[1;33m:\u001b[0m\u001b[1;33m\u001b[0m\u001b[1;33m\u001b[0m\u001b[0m\n\u001b[0;32m    437\u001b[0m                 \u001b[1;32mraise\u001b[0m \u001b[0mTimeoutError\u001b[0m\u001b[1;33m(\u001b[0m\u001b[1;33m)\u001b[0m\u001b[1;33m\u001b[0m\u001b[1;33m\u001b[0m\u001b[0m\n",
      "\u001b[1;32m~\\Anaconda3\\lib\\concurrent\\futures\\_base.py\u001b[0m in \u001b[0;36m__get_result\u001b[1;34m(self)\u001b[0m\n\u001b[0;32m    382\u001b[0m     \u001b[1;32mdef\u001b[0m \u001b[0m__get_result\u001b[0m\u001b[1;33m(\u001b[0m\u001b[0mself\u001b[0m\u001b[1;33m)\u001b[0m\u001b[1;33m:\u001b[0m\u001b[1;33m\u001b[0m\u001b[1;33m\u001b[0m\u001b[0m\n\u001b[0;32m    383\u001b[0m         \u001b[1;32mif\u001b[0m \u001b[0mself\u001b[0m\u001b[1;33m.\u001b[0m\u001b[0m_exception\u001b[0m\u001b[1;33m:\u001b[0m\u001b[1;33m\u001b[0m\u001b[1;33m\u001b[0m\u001b[0m\n\u001b[1;32m--> 384\u001b[1;33m             \u001b[1;32mraise\u001b[0m \u001b[0mself\u001b[0m\u001b[1;33m.\u001b[0m\u001b[0m_exception\u001b[0m\u001b[1;33m\u001b[0m\u001b[1;33m\u001b[0m\u001b[0m\n\u001b[0m\u001b[0;32m    385\u001b[0m         \u001b[1;32melse\u001b[0m\u001b[1;33m:\u001b[0m\u001b[1;33m\u001b[0m\u001b[1;33m\u001b[0m\u001b[0m\n\u001b[0;32m    386\u001b[0m             \u001b[1;32mreturn\u001b[0m \u001b[0mself\u001b[0m\u001b[1;33m.\u001b[0m\u001b[0m_result\u001b[0m\u001b[1;33m\u001b[0m\u001b[1;33m\u001b[0m\u001b[0m\n",
      "\u001b[1;31mValueError\u001b[0m: Solver lbfgs supports only 'l2' or 'none' penalties, got l1 penalty."
     ]
    }
   ],
   "source": [
    "reg_grid.fit(train_X,train_y)"
   ]
  },
  {
   "cell_type": "code",
   "execution_count": null,
   "metadata": {},
   "outputs": [],
   "source": [
    "reg_grid.best_params_"
   ]
  },
  {
   "cell_type": "code",
   "execution_count": null,
   "metadata": {},
   "outputs": [],
   "source": [
    "reg_grid.best_estimator_"
   ]
  },
  {
   "cell_type": "code",
   "execution_count": 50,
   "metadata": {},
   "outputs": [
    {
     "ename": "NotFittedError",
     "evalue": "This GridSearchCV instance is not fitted yet. Call 'fit' with appropriate arguments before using this method.",
     "output_type": "error",
     "traceback": [
      "\u001b[1;31m---------------------------------------------------------------------------\u001b[0m",
      "\u001b[1;31mNotFittedError\u001b[0m                            Traceback (most recent call last)",
      "\u001b[1;32m<ipython-input-50-78b2553c458d>\u001b[0m in \u001b[0;36m<module>\u001b[1;34m\u001b[0m\n\u001b[1;32m----> 1\u001b[1;33m \u001b[0mgrid_predictionsReg\u001b[0m \u001b[1;33m=\u001b[0m \u001b[0mreg_grid\u001b[0m\u001b[1;33m.\u001b[0m\u001b[0mpredict\u001b[0m\u001b[1;33m(\u001b[0m\u001b[0mtest_X\u001b[0m\u001b[1;33m)\u001b[0m\u001b[1;33m\u001b[0m\u001b[1;33m\u001b[0m\u001b[0m\n\u001b[0m",
      "\u001b[1;32m~\\Anaconda3\\lib\\site-packages\\sklearn\\utils\\metaestimators.py\u001b[0m in \u001b[0;36m<lambda>\u001b[1;34m(*args, **kwargs)\u001b[0m\n\u001b[0;32m    114\u001b[0m \u001b[1;33m\u001b[0m\u001b[0m\n\u001b[0;32m    115\u001b[0m         \u001b[1;31m# lambda, but not partial, allows help() to work with update_wrapper\u001b[0m\u001b[1;33m\u001b[0m\u001b[1;33m\u001b[0m\u001b[1;33m\u001b[0m\u001b[0m\n\u001b[1;32m--> 116\u001b[1;33m         \u001b[0mout\u001b[0m \u001b[1;33m=\u001b[0m \u001b[1;32mlambda\u001b[0m \u001b[1;33m*\u001b[0m\u001b[0margs\u001b[0m\u001b[1;33m,\u001b[0m \u001b[1;33m**\u001b[0m\u001b[0mkwargs\u001b[0m\u001b[1;33m:\u001b[0m \u001b[0mself\u001b[0m\u001b[1;33m.\u001b[0m\u001b[0mfn\u001b[0m\u001b[1;33m(\u001b[0m\u001b[0mobj\u001b[0m\u001b[1;33m,\u001b[0m \u001b[1;33m*\u001b[0m\u001b[0margs\u001b[0m\u001b[1;33m,\u001b[0m \u001b[1;33m**\u001b[0m\u001b[0mkwargs\u001b[0m\u001b[1;33m)\u001b[0m\u001b[1;33m\u001b[0m\u001b[1;33m\u001b[0m\u001b[0m\n\u001b[0m\u001b[0;32m    117\u001b[0m         \u001b[1;31m# update the docstring of the returned function\u001b[0m\u001b[1;33m\u001b[0m\u001b[1;33m\u001b[0m\u001b[1;33m\u001b[0m\u001b[0m\n\u001b[0;32m    118\u001b[0m         \u001b[0mupdate_wrapper\u001b[0m\u001b[1;33m(\u001b[0m\u001b[0mout\u001b[0m\u001b[1;33m,\u001b[0m \u001b[0mself\u001b[0m\u001b[1;33m.\u001b[0m\u001b[0mfn\u001b[0m\u001b[1;33m)\u001b[0m\u001b[1;33m\u001b[0m\u001b[1;33m\u001b[0m\u001b[0m\n",
      "\u001b[1;32m~\\Anaconda3\\lib\\site-packages\\sklearn\\model_selection\\_search.py\u001b[0m in \u001b[0;36mpredict\u001b[1;34m(self, X)\u001b[0m\n\u001b[0;32m    454\u001b[0m \u001b[1;33m\u001b[0m\u001b[0m\n\u001b[0;32m    455\u001b[0m         \"\"\"\n\u001b[1;32m--> 456\u001b[1;33m         \u001b[0mself\u001b[0m\u001b[1;33m.\u001b[0m\u001b[0m_check_is_fitted\u001b[0m\u001b[1;33m(\u001b[0m\u001b[1;34m'predict'\u001b[0m\u001b[1;33m)\u001b[0m\u001b[1;33m\u001b[0m\u001b[1;33m\u001b[0m\u001b[0m\n\u001b[0m\u001b[0;32m    457\u001b[0m         \u001b[1;32mreturn\u001b[0m \u001b[0mself\u001b[0m\u001b[1;33m.\u001b[0m\u001b[0mbest_estimator_\u001b[0m\u001b[1;33m.\u001b[0m\u001b[0mpredict\u001b[0m\u001b[1;33m(\u001b[0m\u001b[0mX\u001b[0m\u001b[1;33m)\u001b[0m\u001b[1;33m\u001b[0m\u001b[1;33m\u001b[0m\u001b[0m\n\u001b[0;32m    458\u001b[0m \u001b[1;33m\u001b[0m\u001b[0m\n",
      "\u001b[1;32m~\\Anaconda3\\lib\\site-packages\\sklearn\\model_selection\\_search.py\u001b[0m in \u001b[0;36m_check_is_fitted\u001b[1;34m(self, method_name)\u001b[0m\n\u001b[0;32m    438\u001b[0m                                  % (type(self).__name__, method_name))\n\u001b[0;32m    439\u001b[0m         \u001b[1;32melse\u001b[0m\u001b[1;33m:\u001b[0m\u001b[1;33m\u001b[0m\u001b[1;33m\u001b[0m\u001b[0m\n\u001b[1;32m--> 440\u001b[1;33m             \u001b[0mcheck_is_fitted\u001b[0m\u001b[1;33m(\u001b[0m\u001b[0mself\u001b[0m\u001b[1;33m,\u001b[0m \u001b[1;34m'best_estimator_'\u001b[0m\u001b[1;33m)\u001b[0m\u001b[1;33m\u001b[0m\u001b[1;33m\u001b[0m\u001b[0m\n\u001b[0m\u001b[0;32m    441\u001b[0m \u001b[1;33m\u001b[0m\u001b[0m\n\u001b[0;32m    442\u001b[0m     \u001b[1;33m@\u001b[0m\u001b[0mif_delegate_has_method\u001b[0m\u001b[1;33m(\u001b[0m\u001b[0mdelegate\u001b[0m\u001b[1;33m=\u001b[0m\u001b[1;33m(\u001b[0m\u001b[1;34m'best_estimator_'\u001b[0m\u001b[1;33m,\u001b[0m \u001b[1;34m'estimator'\u001b[0m\u001b[1;33m)\u001b[0m\u001b[1;33m)\u001b[0m\u001b[1;33m\u001b[0m\u001b[1;33m\u001b[0m\u001b[0m\n",
      "\u001b[1;32m~\\Anaconda3\\lib\\site-packages\\sklearn\\utils\\validation.py\u001b[0m in \u001b[0;36mcheck_is_fitted\u001b[1;34m(estimator, attributes, msg, all_or_any)\u001b[0m\n\u001b[0;32m    912\u001b[0m \u001b[1;33m\u001b[0m\u001b[0m\n\u001b[0;32m    913\u001b[0m     \u001b[1;32mif\u001b[0m \u001b[1;32mnot\u001b[0m \u001b[0mall_or_any\u001b[0m\u001b[1;33m(\u001b[0m\u001b[1;33m[\u001b[0m\u001b[0mhasattr\u001b[0m\u001b[1;33m(\u001b[0m\u001b[0mestimator\u001b[0m\u001b[1;33m,\u001b[0m \u001b[0mattr\u001b[0m\u001b[1;33m)\u001b[0m \u001b[1;32mfor\u001b[0m \u001b[0mattr\u001b[0m \u001b[1;32min\u001b[0m \u001b[0mattributes\u001b[0m\u001b[1;33m]\u001b[0m\u001b[1;33m)\u001b[0m\u001b[1;33m:\u001b[0m\u001b[1;33m\u001b[0m\u001b[1;33m\u001b[0m\u001b[0m\n\u001b[1;32m--> 914\u001b[1;33m         \u001b[1;32mraise\u001b[0m \u001b[0mNotFittedError\u001b[0m\u001b[1;33m(\u001b[0m\u001b[0mmsg\u001b[0m \u001b[1;33m%\u001b[0m \u001b[1;33m{\u001b[0m\u001b[1;34m'name'\u001b[0m\u001b[1;33m:\u001b[0m \u001b[0mtype\u001b[0m\u001b[1;33m(\u001b[0m\u001b[0mestimator\u001b[0m\u001b[1;33m)\u001b[0m\u001b[1;33m.\u001b[0m\u001b[0m__name__\u001b[0m\u001b[1;33m}\u001b[0m\u001b[1;33m)\u001b[0m\u001b[1;33m\u001b[0m\u001b[1;33m\u001b[0m\u001b[0m\n\u001b[0m\u001b[0;32m    915\u001b[0m \u001b[1;33m\u001b[0m\u001b[0m\n\u001b[0;32m    916\u001b[0m \u001b[1;33m\u001b[0m\u001b[0m\n",
      "\u001b[1;31mNotFittedError\u001b[0m: This GridSearchCV instance is not fitted yet. Call 'fit' with appropriate arguments before using this method."
     ]
    }
   ],
   "source": [
    "grid_predictionsReg = reg_grid.predict(test_X)"
   ]
  },
  {
   "cell_type": "code",
   "execution_count": 51,
   "metadata": {},
   "outputs": [
    {
     "ename": "NameError",
     "evalue": "name 'grid_predictionsReg' is not defined",
     "output_type": "error",
     "traceback": [
      "\u001b[1;31m---------------------------------------------------------------------------\u001b[0m",
      "\u001b[1;31mNameError\u001b[0m                                 Traceback (most recent call last)",
      "\u001b[1;32m<ipython-input-51-25ad6d2518f2>\u001b[0m in \u001b[0;36m<module>\u001b[1;34m\u001b[0m\n\u001b[1;32m----> 1\u001b[1;33m \u001b[0mprint\u001b[0m\u001b[1;33m(\u001b[0m\u001b[0mconfusion_matrix\u001b[0m\u001b[1;33m(\u001b[0m\u001b[0mtest_y\u001b[0m\u001b[1;33m,\u001b[0m\u001b[0mgrid_predictionsReg\u001b[0m\u001b[1;33m)\u001b[0m\u001b[1;33m,\u001b[0m\u001b[1;34m'\\n with accuracy '\u001b[0m\u001b[1;33m,\u001b[0m\u001b[0mreg_grid\u001b[0m\u001b[1;33m.\u001b[0m\u001b[0mbest_score_\u001b[0m\u001b[1;33m)\u001b[0m\u001b[1;33m\u001b[0m\u001b[1;33m\u001b[0m\u001b[0m\n\u001b[0m",
      "\u001b[1;31mNameError\u001b[0m: name 'grid_predictionsReg' is not defined"
     ]
    }
   ],
   "source": [
    "print(confusion_matrix(test_y,grid_predictionsReg),'\\n with accuracy ',reg_grid.best_score_)"
   ]
  },
  {
   "cell_type": "markdown",
   "metadata": {},
   "source": [
    "# SVM ALGORITHM "
   ]
  },
  {
   "cell_type": "code",
   "execution_count": 18,
   "metadata": {},
   "outputs": [],
   "source": [
    "from sklearn.svm import SVC\n",
    "svm_model = SVC(C= 1, gamma= 0.01, kernel= 'rbf', random_state=50)"
   ]
  },
  {
   "cell_type": "code",
   "execution_count": 19,
   "metadata": {},
   "outputs": [
    {
     "ename": "NameError",
     "evalue": "name 'train_X' is not defined",
     "output_type": "error",
     "traceback": [
      "\u001b[1;31m---------------------------------------------------------------------------\u001b[0m",
      "\u001b[1;31mNameError\u001b[0m                                 Traceback (most recent call last)",
      "\u001b[1;32m<ipython-input-19-bad7249b1e2e>\u001b[0m in \u001b[0;36m<module>\u001b[1;34m\u001b[0m\n\u001b[1;32m----> 1\u001b[1;33m \u001b[0msvm_model\u001b[0m\u001b[1;33m.\u001b[0m\u001b[0mfit\u001b[0m\u001b[1;33m(\u001b[0m\u001b[0mtrain_X\u001b[0m\u001b[1;33m,\u001b[0m\u001b[0mtrain_y\u001b[0m\u001b[1;33m)\u001b[0m\u001b[1;33m\u001b[0m\u001b[1;33m\u001b[0m\u001b[0m\n\u001b[0m",
      "\u001b[1;31mNameError\u001b[0m: name 'train_X' is not defined"
     ]
    }
   ],
   "source": [
    "svm_model.fit(train_X,train_y)"
   ]
  },
  {
   "cell_type": "code",
   "execution_count": null,
   "metadata": {},
   "outputs": [],
   "source": []
  },
  {
   "cell_type": "code",
   "execution_count": 20,
   "metadata": {},
   "outputs": [
    {
     "ename": "NameError",
     "evalue": "name 'confusion_matrix' is not defined",
     "output_type": "error",
     "traceback": [
      "\u001b[1;31m---------------------------------------------------------------------------\u001b[0m",
      "\u001b[1;31mNameError\u001b[0m                                 Traceback (most recent call last)",
      "\u001b[1;32m<ipython-input-20-e949f2830df8>\u001b[0m in \u001b[0;36m<module>\u001b[1;34m\u001b[0m\n\u001b[1;32m----> 1\u001b[1;33m \u001b[0mprint\u001b[0m\u001b[1;33m(\u001b[0m\u001b[0mconfusion_matrix\u001b[0m\u001b[1;33m(\u001b[0m\u001b[0mtest_y\u001b[0m\u001b[1;33m,\u001b[0m\u001b[0mprediction_svm\u001b[0m\u001b[1;33m)\u001b[0m\u001b[1;33m)\u001b[0m\u001b[1;33m\u001b[0m\u001b[1;33m\u001b[0m\u001b[0m\n\u001b[0m",
      "\u001b[1;31mNameError\u001b[0m: name 'confusion_matrix' is not defined"
     ]
    }
   ],
   "source": [
    "print(confusion_matrix(test_y,prediction_svm))"
   ]
  },
  {
   "cell_type": "code",
   "execution_count": 56,
   "metadata": {},
   "outputs": [],
   "source": [
    "param_grid_svm = {'C': [0.1,1, 10, 100, 1000], 'gamma': [1,0.1,0.01,0.001,0.0001], 'kernel': ['rbf']} "
   ]
  },
  {
   "cell_type": "code",
   "execution_count": 57,
   "metadata": {},
   "outputs": [],
   "source": [
    "grid_svm = GridSearchCV(SVC(),param_grid_svm,refit=True,verbose=3)"
   ]
  },
  {
   "cell_type": "code",
   "execution_count": 58,
   "metadata": {},
   "outputs": [
    {
     "name": "stderr",
     "output_type": "stream",
     "text": [
      "C:\\Users\\MATTHEW\\Anaconda3\\lib\\site-packages\\sklearn\\model_selection\\_split.py:1978: FutureWarning: The default value of cv will change from 3 to 5 in version 0.22. Specify it explicitly to silence this warning.\n",
      "  warnings.warn(CV_WARNING, FutureWarning)\n",
      "[Parallel(n_jobs=1)]: Using backend SequentialBackend with 1 concurrent workers.\n",
      "[Parallel(n_jobs=1)]: Done   1 out of   1 | elapsed:    0.0s remaining:    0.0s\n",
      "[Parallel(n_jobs=1)]: Done   2 out of   2 | elapsed:    0.0s remaining:    0.0s\n"
     ]
    },
    {
     "name": "stdout",
     "output_type": "stream",
     "text": [
      "Fitting 3 folds for each of 25 candidates, totalling 75 fits\n",
      "[CV] C=0.1, gamma=1, kernel=rbf ......................................\n",
      "[CV] .......... C=0.1, gamma=1, kernel=rbf, score=0.709, total=   0.0s\n",
      "[CV] C=0.1, gamma=1, kernel=rbf ......................................\n",
      "[CV] .......... C=0.1, gamma=1, kernel=rbf, score=0.709, total=   0.0s\n",
      "[CV] C=0.1, gamma=1, kernel=rbf ......................................\n",
      "[CV] .......... C=0.1, gamma=1, kernel=rbf, score=0.713, total=   0.0s\n",
      "[CV] C=0.1, gamma=0.1, kernel=rbf ....................................\n",
      "[CV] ........ C=0.1, gamma=0.1, kernel=rbf, score=0.709, total=   0.0s\n",
      "[CV] C=0.1, gamma=0.1, kernel=rbf ....................................\n",
      "[CV] ........ C=0.1, gamma=0.1, kernel=rbf, score=0.709, total=   0.0s\n",
      "[CV] C=0.1, gamma=0.1, kernel=rbf ....................................\n",
      "[CV] ........ C=0.1, gamma=0.1, kernel=rbf, score=0.713, total=   0.0s\n",
      "[CV] C=0.1, gamma=0.01, kernel=rbf ...................................\n",
      "[CV] ....... C=0.1, gamma=0.01, kernel=rbf, score=0.709, total=   0.0s\n",
      "[CV] C=0.1, gamma=0.01, kernel=rbf ...................................\n",
      "[CV] ....... C=0.1, gamma=0.01, kernel=rbf, score=0.709, total=   0.0s\n",
      "[CV] C=0.1, gamma=0.01, kernel=rbf ...................................\n",
      "[CV] ....... C=0.1, gamma=0.01, kernel=rbf, score=0.713, total=   0.0s\n",
      "[CV] C=0.1, gamma=0.001, kernel=rbf ..................................\n",
      "[CV] ...... C=0.1, gamma=0.001, kernel=rbf, score=0.709, total=   0.0s\n",
      "[CV] C=0.1, gamma=0.001, kernel=rbf ..................................\n",
      "[CV] ...... C=0.1, gamma=0.001, kernel=rbf, score=0.709, total=   0.0s\n",
      "[CV] C=0.1, gamma=0.001, kernel=rbf ..................................\n",
      "[CV] ...... C=0.1, gamma=0.001, kernel=rbf, score=0.713, total=   0.0s\n",
      "[CV] C=0.1, gamma=0.0001, kernel=rbf .................................\n",
      "[CV] ..... C=0.1, gamma=0.0001, kernel=rbf, score=0.709, total=   0.0s\n",
      "[CV] C=0.1, gamma=0.0001, kernel=rbf .................................\n",
      "[CV] ..... C=0.1, gamma=0.0001, kernel=rbf, score=0.709, total=   0.0s\n",
      "[CV] C=0.1, gamma=0.0001, kernel=rbf .................................\n",
      "[CV] ..... C=0.1, gamma=0.0001, kernel=rbf, score=0.713, total=   0.0s\n",
      "[CV] C=1, gamma=1, kernel=rbf ........................................\n",
      "[CV] ............ C=1, gamma=1, kernel=rbf, score=0.709, total=   0.0s\n",
      "[CV] C=1, gamma=1, kernel=rbf ........................................\n",
      "[CV] ............ C=1, gamma=1, kernel=rbf, score=0.709, total=   0.0s\n",
      "[CV] C=1, gamma=1, kernel=rbf ........................................\n",
      "[CV] ............ C=1, gamma=1, kernel=rbf, score=0.713, total=   0.0s\n",
      "[CV] C=1, gamma=0.1, kernel=rbf ......................................\n",
      "[CV] .......... C=1, gamma=0.1, kernel=rbf, score=0.709, total=   0.0s\n",
      "[CV] C=1, gamma=0.1, kernel=rbf ......................................\n",
      "[CV] .......... C=1, gamma=0.1, kernel=rbf, score=0.709, total=   0.0s\n",
      "[CV] C=1, gamma=0.1, kernel=rbf ......................................\n",
      "[CV] .......... C=1, gamma=0.1, kernel=rbf, score=0.713, total=   0.0s\n",
      "[CV] C=1, gamma=0.01, kernel=rbf .....................................\n",
      "[CV] ......... C=1, gamma=0.01, kernel=rbf, score=0.709, total=   0.0s\n",
      "[CV] C=1, gamma=0.01, kernel=rbf .....................................\n",
      "[CV] ......... C=1, gamma=0.01, kernel=rbf, score=0.699, total=   0.0s\n",
      "[CV] C=1, gamma=0.01, kernel=rbf .....................................\n",
      "[CV] ......... C=1, gamma=0.01, kernel=rbf, score=0.713, total=   0.0s\n",
      "[CV] C=1, gamma=0.001, kernel=rbf ....................................\n",
      "[CV] ........ C=1, gamma=0.001, kernel=rbf, score=0.709, total=   0.0s\n",
      "[CV] C=1, gamma=0.001, kernel=rbf ....................................\n",
      "[CV] ........ C=1, gamma=0.001, kernel=rbf, score=0.709, total=   0.0s\n",
      "[CV] C=1, gamma=0.001, kernel=rbf ....................................\n",
      "[CV] ........ C=1, gamma=0.001, kernel=rbf, score=0.733, total=   0.0s\n",
      "[CV] C=1, gamma=0.0001, kernel=rbf ...................................\n",
      "[CV] ....... C=1, gamma=0.0001, kernel=rbf, score=0.689, total=   0.0s\n",
      "[CV] C=1, gamma=0.0001, kernel=rbf ...................................\n",
      "[CV] ....... C=1, gamma=0.0001, kernel=rbf, score=0.728, total=   0.0s\n",
      "[CV] C=1, gamma=0.0001, kernel=rbf ...................................\n",
      "[CV] ....... C=1, gamma=0.0001, kernel=rbf, score=0.733, total=   0.0s\n",
      "[CV] C=10, gamma=1, kernel=rbf .......................................\n",
      "[CV] ........... C=10, gamma=1, kernel=rbf, score=0.709, total=   0.0s\n",
      "[CV] C=10, gamma=1, kernel=rbf .......................................\n",
      "[CV] ........... C=10, gamma=1, kernel=rbf, score=0.709, total=   0.0s\n",
      "[CV] C=10, gamma=1, kernel=rbf .......................................\n",
      "[CV] ........... C=10, gamma=1, kernel=rbf, score=0.713, total=   0.0s\n",
      "[CV] C=10, gamma=0.1, kernel=rbf .....................................\n",
      "[CV] ......... C=10, gamma=0.1, kernel=rbf, score=0.709, total=   0.0s\n",
      "[CV] C=10, gamma=0.1, kernel=rbf .....................................\n",
      "[CV] ......... C=10, gamma=0.1, kernel=rbf, score=0.709, total=   0.0s\n",
      "[CV] C=10, gamma=0.1, kernel=rbf .....................................\n",
      "[CV] ......... C=10, gamma=0.1, kernel=rbf, score=0.713, total=   0.0s\n",
      "[CV] C=10, gamma=0.01, kernel=rbf ....................................\n",
      "[CV] ........ C=10, gamma=0.01, kernel=rbf, score=0.709, total=   0.0s\n",
      "[CV] C=10, gamma=0.01, kernel=rbf ....................................\n",
      "[CV] ........ C=10, gamma=0.01, kernel=rbf, score=0.699, total=   0.0s\n",
      "[CV] C=10, gamma=0.01, kernel=rbf ....................................\n",
      "[CV] ........ C=10, gamma=0.01, kernel=rbf, score=0.723, total=   0.0s\n",
      "[CV] C=10, gamma=0.001, kernel=rbf ...................................\n",
      "[CV] ....... C=10, gamma=0.001, kernel=rbf, score=0.709, total=   0.0s\n",
      "[CV] C=10, gamma=0.001, kernel=rbf ...................................\n",
      "[CV] ....... C=10, gamma=0.001, kernel=rbf, score=0.699, total=   0.0s\n",
      "[CV] C=10, gamma=0.001, kernel=rbf ...................................\n",
      "[CV] ....... C=10, gamma=0.001, kernel=rbf, score=0.723, total=   0.0s\n",
      "[CV] C=10, gamma=0.0001, kernel=rbf ..................................\n",
      "[CV] ...... C=10, gamma=0.0001, kernel=rbf, score=0.670, total=   0.0s\n",
      "[CV] C=10, gamma=0.0001, kernel=rbf ..................................\n",
      "[CV] ...... C=10, gamma=0.0001, kernel=rbf, score=0.699, total=   0.0s\n",
      "[CV] C=10, gamma=0.0001, kernel=rbf ..................................\n",
      "[CV] ...... C=10, gamma=0.0001, kernel=rbf, score=0.713, total=   0.0s\n",
      "[CV] C=100, gamma=1, kernel=rbf ......................................\n",
      "[CV] .......... C=100, gamma=1, kernel=rbf, score=0.709, total=   0.0s\n",
      "[CV] C=100, gamma=1, kernel=rbf ......................................\n",
      "[CV] .......... C=100, gamma=1, kernel=rbf, score=0.709, total=   0.0s\n",
      "[CV] C=100, gamma=1, kernel=rbf ......................................\n",
      "[CV] .......... C=100, gamma=1, kernel=rbf, score=0.713, total=   0.0s\n",
      "[CV] C=100, gamma=0.1, kernel=rbf ....................................\n",
      "[CV] ........ C=100, gamma=0.1, kernel=rbf, score=0.709, total=   0.0s\n",
      "[CV] C=100, gamma=0.1, kernel=rbf ....................................\n",
      "[CV] ........ C=100, gamma=0.1, kernel=rbf, score=0.709, total=   0.0s\n",
      "[CV] C=100, gamma=0.1, kernel=rbf ....................................\n",
      "[CV] ........ C=100, gamma=0.1, kernel=rbf, score=0.713, total=   0.0s\n",
      "[CV] C=100, gamma=0.01, kernel=rbf ...................................\n",
      "[CV] ....... C=100, gamma=0.01, kernel=rbf, score=0.709, total=   0.0s\n",
      "[CV] C=100, gamma=0.01, kernel=rbf ...................................\n",
      "[CV] ....... C=100, gamma=0.01, kernel=rbf, score=0.699, total=   0.0s\n",
      "[CV] C=100, gamma=0.01, kernel=rbf ...................................\n",
      "[CV] ....... C=100, gamma=0.01, kernel=rbf, score=0.723, total=   0.0s\n",
      "[CV] C=100, gamma=0.001, kernel=rbf ..................................\n",
      "[CV] ...... C=100, gamma=0.001, kernel=rbf, score=0.709, total=   0.0s\n",
      "[CV] C=100, gamma=0.001, kernel=rbf ..................................\n",
      "[CV] ...... C=100, gamma=0.001, kernel=rbf, score=0.699, total=   0.0s\n",
      "[CV] C=100, gamma=0.001, kernel=rbf ..................................\n",
      "[CV] ...... C=100, gamma=0.001, kernel=rbf, score=0.723, total=   0.0s\n",
      "[CV] C=100, gamma=0.0001, kernel=rbf .................................\n",
      "[CV] ..... C=100, gamma=0.0001, kernel=rbf, score=0.670, total=   0.0s\n",
      "[CV] C=100, gamma=0.0001, kernel=rbf .................................\n",
      "[CV] ..... C=100, gamma=0.0001, kernel=rbf, score=0.699, total=   0.0s\n",
      "[CV] C=100, gamma=0.0001, kernel=rbf .................................\n",
      "[CV] ..... C=100, gamma=0.0001, kernel=rbf, score=0.723, total=   0.0s\n",
      "[CV] C=1000, gamma=1, kernel=rbf .....................................\n",
      "[CV] ......... C=1000, gamma=1, kernel=rbf, score=0.709, total=   0.0s\n",
      "[CV] C=1000, gamma=1, kernel=rbf .....................................\n",
      "[CV] ......... C=1000, gamma=1, kernel=rbf, score=0.709, total=   0.0s\n",
      "[CV] C=1000, gamma=1, kernel=rbf .....................................\n",
      "[CV] ......... C=1000, gamma=1, kernel=rbf, score=0.713, total=   0.0s\n",
      "[CV] C=1000, gamma=0.1, kernel=rbf ...................................\n",
      "[CV] ....... C=1000, gamma=0.1, kernel=rbf, score=0.709, total=   0.0s\n",
      "[CV] C=1000, gamma=0.1, kernel=rbf ...................................\n",
      "[CV] ....... C=1000, gamma=0.1, kernel=rbf, score=0.709, total=   0.0s\n",
      "[CV] C=1000, gamma=0.1, kernel=rbf ...................................\n",
      "[CV] ....... C=1000, gamma=0.1, kernel=rbf, score=0.713, total=   0.0s\n",
      "[CV] C=1000, gamma=0.01, kernel=rbf ..................................\n",
      "[CV] ...... C=1000, gamma=0.01, kernel=rbf, score=0.709, total=   0.0s\n",
      "[CV] C=1000, gamma=0.01, kernel=rbf ..................................\n",
      "[CV] ...... C=1000, gamma=0.01, kernel=rbf, score=0.699, total=   0.0s\n",
      "[CV] C=1000, gamma=0.01, kernel=rbf ..................................\n",
      "[CV] ...... C=1000, gamma=0.01, kernel=rbf, score=0.723, total=   0.0s\n",
      "[CV] C=1000, gamma=0.001, kernel=rbf .................................\n",
      "[CV] ..... C=1000, gamma=0.001, kernel=rbf, score=0.709, total=   0.0s\n",
      "[CV] C=1000, gamma=0.001, kernel=rbf .................................\n",
      "[CV] ..... C=1000, gamma=0.001, kernel=rbf, score=0.699, total=   0.0s\n",
      "[CV] C=1000, gamma=0.001, kernel=rbf .................................\n",
      "[CV] ..... C=1000, gamma=0.001, kernel=rbf, score=0.723, total=   0.0s\n",
      "[CV] C=1000, gamma=0.0001, kernel=rbf ................................\n",
      "[CV] .... C=1000, gamma=0.0001, kernel=rbf, score=0.670, total=   0.0s\n",
      "[CV] C=1000, gamma=0.0001, kernel=rbf ................................\n",
      "[CV] .... C=1000, gamma=0.0001, kernel=rbf, score=0.699, total=   0.0s\n",
      "[CV] C=1000, gamma=0.0001, kernel=rbf ................................\n",
      "[CV] .... C=1000, gamma=0.0001, kernel=rbf, score=0.723, total=   0.0s\n"
     ]
    },
    {
     "name": "stderr",
     "output_type": "stream",
     "text": [
      "[Parallel(n_jobs=1)]: Done  75 out of  75 | elapsed:    0.7s finished\n"
     ]
    },
    {
     "data": {
      "text/plain": [
       "GridSearchCV(cv='warn', error_score='raise-deprecating',\n",
       "             estimator=SVC(C=1.0, cache_size=200, class_weight=None, coef0=0.0,\n",
       "                           decision_function_shape='ovr', degree=3,\n",
       "                           gamma='auto_deprecated', kernel='rbf', max_iter=-1,\n",
       "                           probability=False, random_state=None, shrinking=True,\n",
       "                           tol=0.001, verbose=False),\n",
       "             iid='warn', n_jobs=None,\n",
       "             param_grid={'C': [0.1, 1, 10, 100, 1000],\n",
       "                         'gamma': [1, 0.1, 0.01, 0.001, 0.0001],\n",
       "                         'kernel': ['rbf']},\n",
       "             pre_dispatch='2*n_jobs', refit=True, return_train_score=False,\n",
       "             scoring=None, verbose=3)"
      ]
     },
     "execution_count": 58,
     "metadata": {},
     "output_type": "execute_result"
    }
   ],
   "source": [
    "grid_svm.fit(train_X,train_y)"
   ]
  },
  {
   "cell_type": "code",
   "execution_count": 59,
   "metadata": {},
   "outputs": [
    {
     "data": {
      "text/plain": [
       "{'C': 1, 'gamma': 0.001, 'kernel': 'rbf'}"
      ]
     },
     "execution_count": 59,
     "metadata": {},
     "output_type": "execute_result"
    }
   ],
   "source": [
    "grid_svm.best_params_"
   ]
  },
  {
   "cell_type": "code",
   "execution_count": 60,
   "metadata": {},
   "outputs": [
    {
     "data": {
      "text/plain": [
       "SVC(C=1, cache_size=200, class_weight=None, coef0=0.0,\n",
       "    decision_function_shape='ovr', degree=3, gamma=0.001, kernel='rbf',\n",
       "    max_iter=-1, probability=False, random_state=None, shrinking=True,\n",
       "    tol=0.001, verbose=False)"
      ]
     },
     "execution_count": 60,
     "metadata": {},
     "output_type": "execute_result"
    }
   ],
   "source": [
    "grid_svm.best_estimator_"
   ]
  },
  {
   "cell_type": "code",
   "execution_count": 61,
   "metadata": {},
   "outputs": [],
   "source": [
    "grid_prediction_svm = grid.predict(test_X)"
   ]
  },
  {
   "cell_type": "code",
   "execution_count": 62,
   "metadata": {},
   "outputs": [
    {
     "name": "stdout",
     "output_type": "stream",
     "text": [
      "[[ 43  60]\n",
      " [  4 200]] \n",
      " with accuracy  0.7166123778501629\n"
     ]
    }
   ],
   "source": [
    "print(confusion_matrix(test_y,grid_prediction_svm),'\\n with accuracy ',grid_svm.best_score_)"
   ]
  },
  {
   "cell_type": "markdown",
   "metadata": {},
   "source": [
    "# RANDOM FOREST ALGORITHM "
   ]
  },
  {
   "cell_type": "code",
   "execution_count": 63,
   "metadata": {},
   "outputs": [],
   "source": [
    "from sklearn.ensemble import RandomForestClassifier\n",
    "rf_model = RandomForestClassifier(random_state =0, n_estimators=100)"
   ]
  },
  {
   "cell_type": "code",
   "execution_count": 64,
   "metadata": {},
   "outputs": [
    {
     "data": {
      "text/plain": [
       "RandomForestClassifier(bootstrap=True, class_weight=None, criterion='gini',\n",
       "                       max_depth=None, max_features='auto', max_leaf_nodes=None,\n",
       "                       min_impurity_decrease=0.0, min_impurity_split=None,\n",
       "                       min_samples_leaf=1, min_samples_split=2,\n",
       "                       min_weight_fraction_leaf=0.0, n_estimators=100,\n",
       "                       n_jobs=None, oob_score=False, random_state=0, verbose=0,\n",
       "                       warm_start=False)"
      ]
     },
     "execution_count": 64,
     "metadata": {},
     "output_type": "execute_result"
    }
   ],
   "source": [
    "rf_model.fit(train_X,train_y)"
   ]
  },
  {
   "cell_type": "code",
   "execution_count": 65,
   "metadata": {},
   "outputs": [],
   "source": [
    "prediction_rf = rf_model.predict(test_X)"
   ]
  },
  {
   "cell_type": "code",
   "execution_count": 66,
   "metadata": {},
   "outputs": [
    {
     "name": "stdout",
     "output_type": "stream",
     "text": [
      "[[ 43  60]\n",
      " [ 11 193]]\n"
     ]
    }
   ],
   "source": [
    "print(confusion_matrix(test_y,prediction_rf))"
   ]
  },
  {
   "cell_type": "code",
   "execution_count": 67,
   "metadata": {},
   "outputs": [],
   "source": [
    "param_grid_rf = {'bootstrap': [True, False],\n",
    " 'max_depth': [10, 20, 30, 40, 50, 60, 70, 80, 90, 100, None],\n",
    "\n",
    " 'n_estimators': [200, 400, 600]}"
   ]
  },
  {
   "cell_type": "code",
   "execution_count": 68,
   "metadata": {},
   "outputs": [],
   "source": [
    "grid_rf = GridSearchCV(estimator = rf_model, param_grid = param_grid_rf,  cv = 3, verbose=2)"
   ]
  },
  {
   "cell_type": "code",
   "execution_count": 69,
   "metadata": {},
   "outputs": [
    {
     "name": "stdout",
     "output_type": "stream",
     "text": [
      "Fitting 3 folds for each of 66 candidates, totalling 198 fits\n",
      "[CV] bootstrap=True, max_depth=10, n_estimators=200 ..................\n",
      "[CV] ... bootstrap=True, max_depth=10, n_estimators=200, total=   0.2s\n",
      "[CV] bootstrap=True, max_depth=10, n_estimators=200 ..................\n"
     ]
    },
    {
     "name": "stderr",
     "output_type": "stream",
     "text": [
      "[Parallel(n_jobs=1)]: Using backend SequentialBackend with 1 concurrent workers.\n",
      "[Parallel(n_jobs=1)]: Done   1 out of   1 | elapsed:    0.1s remaining:    0.0s\n"
     ]
    },
    {
     "name": "stdout",
     "output_type": "stream",
     "text": [
      "[CV] ... bootstrap=True, max_depth=10, n_estimators=200, total=   0.2s\n",
      "[CV] bootstrap=True, max_depth=10, n_estimators=200 ..................\n",
      "[CV] ... bootstrap=True, max_depth=10, n_estimators=200, total=   0.2s\n",
      "[CV] bootstrap=True, max_depth=10, n_estimators=400 ..................\n",
      "[CV] ... bootstrap=True, max_depth=10, n_estimators=400, total=   0.4s\n",
      "[CV] bootstrap=True, max_depth=10, n_estimators=400 ..................\n",
      "[CV] ... bootstrap=True, max_depth=10, n_estimators=400, total=   0.3s\n",
      "[CV] bootstrap=True, max_depth=10, n_estimators=400 ..................\n",
      "[CV] ... bootstrap=True, max_depth=10, n_estimators=400, total=   0.4s\n",
      "[CV] bootstrap=True, max_depth=10, n_estimators=600 ..................\n",
      "[CV] ... bootstrap=True, max_depth=10, n_estimators=600, total=   0.5s\n",
      "[CV] bootstrap=True, max_depth=10, n_estimators=600 ..................\n",
      "[CV] ... bootstrap=True, max_depth=10, n_estimators=600, total=   0.5s\n",
      "[CV] bootstrap=True, max_depth=10, n_estimators=600 ..................\n",
      "[CV] ... bootstrap=True, max_depth=10, n_estimators=600, total=   0.5s\n",
      "[CV] bootstrap=True, max_depth=20, n_estimators=200 ..................\n",
      "[CV] ... bootstrap=True, max_depth=20, n_estimators=200, total=   0.2s\n",
      "[CV] bootstrap=True, max_depth=20, n_estimators=200 ..................\n",
      "[CV] ... bootstrap=True, max_depth=20, n_estimators=200, total=   0.2s\n",
      "[CV] bootstrap=True, max_depth=20, n_estimators=200 ..................\n",
      "[CV] ... bootstrap=True, max_depth=20, n_estimators=200, total=   0.2s\n",
      "[CV] bootstrap=True, max_depth=20, n_estimators=400 ..................\n",
      "[CV] ... bootstrap=True, max_depth=20, n_estimators=400, total=   0.3s\n",
      "[CV] bootstrap=True, max_depth=20, n_estimators=400 ..................\n",
      "[CV] ... bootstrap=True, max_depth=20, n_estimators=400, total=   0.3s\n",
      "[CV] bootstrap=True, max_depth=20, n_estimators=400 ..................\n",
      "[CV] ... bootstrap=True, max_depth=20, n_estimators=400, total=   0.3s\n",
      "[CV] bootstrap=True, max_depth=20, n_estimators=600 ..................\n",
      "[CV] ... bootstrap=True, max_depth=20, n_estimators=600, total=   0.5s\n",
      "[CV] bootstrap=True, max_depth=20, n_estimators=600 ..................\n",
      "[CV] ... bootstrap=True, max_depth=20, n_estimators=600, total=   0.5s\n",
      "[CV] bootstrap=True, max_depth=20, n_estimators=600 ..................\n",
      "[CV] ... bootstrap=True, max_depth=20, n_estimators=600, total=   0.5s\n",
      "[CV] bootstrap=True, max_depth=30, n_estimators=200 ..................\n",
      "[CV] ... bootstrap=True, max_depth=30, n_estimators=200, total=   0.2s\n",
      "[CV] bootstrap=True, max_depth=30, n_estimators=200 ..................\n",
      "[CV] ... bootstrap=True, max_depth=30, n_estimators=200, total=   0.2s\n",
      "[CV] bootstrap=True, max_depth=30, n_estimators=200 ..................\n",
      "[CV] ... bootstrap=True, max_depth=30, n_estimators=200, total=   0.2s\n",
      "[CV] bootstrap=True, max_depth=30, n_estimators=400 ..................\n",
      "[CV] ... bootstrap=True, max_depth=30, n_estimators=400, total=   0.3s\n",
      "[CV] bootstrap=True, max_depth=30, n_estimators=400 ..................\n",
      "[CV] ... bootstrap=True, max_depth=30, n_estimators=400, total=   0.4s\n",
      "[CV] bootstrap=True, max_depth=30, n_estimators=400 ..................\n",
      "[CV] ... bootstrap=True, max_depth=30, n_estimators=400, total=   0.3s\n",
      "[CV] bootstrap=True, max_depth=30, n_estimators=600 ..................\n",
      "[CV] ... bootstrap=True, max_depth=30, n_estimators=600, total=   0.5s\n",
      "[CV] bootstrap=True, max_depth=30, n_estimators=600 ..................\n",
      "[CV] ... bootstrap=True, max_depth=30, n_estimators=600, total=   0.5s\n",
      "[CV] bootstrap=True, max_depth=30, n_estimators=600 ..................\n",
      "[CV] ... bootstrap=True, max_depth=30, n_estimators=600, total=   0.5s\n",
      "[CV] bootstrap=True, max_depth=40, n_estimators=200 ..................\n",
      "[CV] ... bootstrap=True, max_depth=40, n_estimators=200, total=   0.2s\n",
      "[CV] bootstrap=True, max_depth=40, n_estimators=200 ..................\n",
      "[CV] ... bootstrap=True, max_depth=40, n_estimators=200, total=   0.2s\n",
      "[CV] bootstrap=True, max_depth=40, n_estimators=200 ..................\n",
      "[CV] ... bootstrap=True, max_depth=40, n_estimators=200, total=   0.2s\n",
      "[CV] bootstrap=True, max_depth=40, n_estimators=400 ..................\n",
      "[CV] ... bootstrap=True, max_depth=40, n_estimators=400, total=   0.3s\n",
      "[CV] bootstrap=True, max_depth=40, n_estimators=400 ..................\n",
      "[CV] ... bootstrap=True, max_depth=40, n_estimators=400, total=   0.3s\n",
      "[CV] bootstrap=True, max_depth=40, n_estimators=400 ..................\n",
      "[CV] ... bootstrap=True, max_depth=40, n_estimators=400, total=   0.3s\n",
      "[CV] bootstrap=True, max_depth=40, n_estimators=600 ..................\n",
      "[CV] ... bootstrap=True, max_depth=40, n_estimators=600, total=   0.5s\n",
      "[CV] bootstrap=True, max_depth=40, n_estimators=600 ..................\n",
      "[CV] ... bootstrap=True, max_depth=40, n_estimators=600, total=   0.5s\n",
      "[CV] bootstrap=True, max_depth=40, n_estimators=600 ..................\n",
      "[CV] ... bootstrap=True, max_depth=40, n_estimators=600, total=   0.5s\n",
      "[CV] bootstrap=True, max_depth=50, n_estimators=200 ..................\n",
      "[CV] ... bootstrap=True, max_depth=50, n_estimators=200, total=   0.2s\n",
      "[CV] bootstrap=True, max_depth=50, n_estimators=200 ..................\n",
      "[CV] ... bootstrap=True, max_depth=50, n_estimators=200, total=   0.2s\n",
      "[CV] bootstrap=True, max_depth=50, n_estimators=200 ..................\n",
      "[CV] ... bootstrap=True, max_depth=50, n_estimators=200, total=   0.2s\n",
      "[CV] bootstrap=True, max_depth=50, n_estimators=400 ..................\n",
      "[CV] ... bootstrap=True, max_depth=50, n_estimators=400, total=   0.3s\n",
      "[CV] bootstrap=True, max_depth=50, n_estimators=400 ..................\n",
      "[CV] ... bootstrap=True, max_depth=50, n_estimators=400, total=   0.3s\n",
      "[CV] bootstrap=True, max_depth=50, n_estimators=400 ..................\n",
      "[CV] ... bootstrap=True, max_depth=50, n_estimators=400, total=   0.3s\n",
      "[CV] bootstrap=True, max_depth=50, n_estimators=600 ..................\n",
      "[CV] ... bootstrap=True, max_depth=50, n_estimators=600, total=   0.5s\n",
      "[CV] bootstrap=True, max_depth=50, n_estimators=600 ..................\n",
      "[CV] ... bootstrap=True, max_depth=50, n_estimators=600, total=   0.5s\n",
      "[CV] bootstrap=True, max_depth=50, n_estimators=600 ..................\n",
      "[CV] ... bootstrap=True, max_depth=50, n_estimators=600, total=   0.5s\n",
      "[CV] bootstrap=True, max_depth=60, n_estimators=200 ..................\n",
      "[CV] ... bootstrap=True, max_depth=60, n_estimators=200, total=   0.2s\n",
      "[CV] bootstrap=True, max_depth=60, n_estimators=200 ..................\n",
      "[CV] ... bootstrap=True, max_depth=60, n_estimators=200, total=   0.2s\n",
      "[CV] bootstrap=True, max_depth=60, n_estimators=200 ..................\n",
      "[CV] ... bootstrap=True, max_depth=60, n_estimators=200, total=   0.2s\n",
      "[CV] bootstrap=True, max_depth=60, n_estimators=400 ..................\n",
      "[CV] ... bootstrap=True, max_depth=60, n_estimators=400, total=   0.3s\n",
      "[CV] bootstrap=True, max_depth=60, n_estimators=400 ..................\n",
      "[CV] ... bootstrap=True, max_depth=60, n_estimators=400, total=   0.3s\n",
      "[CV] bootstrap=True, max_depth=60, n_estimators=400 ..................\n",
      "[CV] ... bootstrap=True, max_depth=60, n_estimators=400, total=   0.3s\n",
      "[CV] bootstrap=True, max_depth=60, n_estimators=600 ..................\n",
      "[CV] ... bootstrap=True, max_depth=60, n_estimators=600, total=   0.5s\n",
      "[CV] bootstrap=True, max_depth=60, n_estimators=600 ..................\n",
      "[CV] ... bootstrap=True, max_depth=60, n_estimators=600, total=   0.5s\n",
      "[CV] bootstrap=True, max_depth=60, n_estimators=600 ..................\n",
      "[CV] ... bootstrap=True, max_depth=60, n_estimators=600, total=   0.5s\n",
      "[CV] bootstrap=True, max_depth=70, n_estimators=200 ..................\n",
      "[CV] ... bootstrap=True, max_depth=70, n_estimators=200, total=   0.2s\n",
      "[CV] bootstrap=True, max_depth=70, n_estimators=200 ..................\n",
      "[CV] ... bootstrap=True, max_depth=70, n_estimators=200, total=   0.2s\n",
      "[CV] bootstrap=True, max_depth=70, n_estimators=200 ..................\n",
      "[CV] ... bootstrap=True, max_depth=70, n_estimators=200, total=   0.2s\n",
      "[CV] bootstrap=True, max_depth=70, n_estimators=400 ..................\n",
      "[CV] ... bootstrap=True, max_depth=70, n_estimators=400, total=   0.3s\n",
      "[CV] bootstrap=True, max_depth=70, n_estimators=400 ..................\n",
      "[CV] ... bootstrap=True, max_depth=70, n_estimators=400, total=   0.3s\n",
      "[CV] bootstrap=True, max_depth=70, n_estimators=400 ..................\n",
      "[CV] ... bootstrap=True, max_depth=70, n_estimators=400, total=   0.3s\n",
      "[CV] bootstrap=True, max_depth=70, n_estimators=600 ..................\n",
      "[CV] ... bootstrap=True, max_depth=70, n_estimators=600, total=   0.5s\n",
      "[CV] bootstrap=True, max_depth=70, n_estimators=600 ..................\n",
      "[CV] ... bootstrap=True, max_depth=70, n_estimators=600, total=   0.5s\n",
      "[CV] bootstrap=True, max_depth=70, n_estimators=600 ..................\n",
      "[CV] ... bootstrap=True, max_depth=70, n_estimators=600, total=   0.5s\n",
      "[CV] bootstrap=True, max_depth=80, n_estimators=200 ..................\n",
      "[CV] ... bootstrap=True, max_depth=80, n_estimators=200, total=   0.2s\n",
      "[CV] bootstrap=True, max_depth=80, n_estimators=200 ..................\n",
      "[CV] ... bootstrap=True, max_depth=80, n_estimators=200, total=   0.2s\n",
      "[CV] bootstrap=True, max_depth=80, n_estimators=200 ..................\n",
      "[CV] ... bootstrap=True, max_depth=80, n_estimators=200, total=   0.2s\n",
      "[CV] bootstrap=True, max_depth=80, n_estimators=400 ..................\n",
      "[CV] ... bootstrap=True, max_depth=80, n_estimators=400, total=   0.3s\n",
      "[CV] bootstrap=True, max_depth=80, n_estimators=400 ..................\n",
      "[CV] ... bootstrap=True, max_depth=80, n_estimators=400, total=   0.3s\n",
      "[CV] bootstrap=True, max_depth=80, n_estimators=400 ..................\n",
      "[CV] ... bootstrap=True, max_depth=80, n_estimators=400, total=   0.3s\n",
      "[CV] bootstrap=True, max_depth=80, n_estimators=600 ..................\n",
      "[CV] ... bootstrap=True, max_depth=80, n_estimators=600, total=   0.5s\n",
      "[CV] bootstrap=True, max_depth=80, n_estimators=600 ..................\n",
      "[CV] ... bootstrap=True, max_depth=80, n_estimators=600, total=   0.5s\n",
      "[CV] bootstrap=True, max_depth=80, n_estimators=600 ..................\n",
      "[CV] ... bootstrap=True, max_depth=80, n_estimators=600, total=   0.5s\n",
      "[CV] bootstrap=True, max_depth=90, n_estimators=200 ..................\n",
      "[CV] ... bootstrap=True, max_depth=90, n_estimators=200, total=   0.2s\n",
      "[CV] bootstrap=True, max_depth=90, n_estimators=200 ..................\n",
      "[CV] ... bootstrap=True, max_depth=90, n_estimators=200, total=   0.2s\n",
      "[CV] bootstrap=True, max_depth=90, n_estimators=200 ..................\n",
      "[CV] ... bootstrap=True, max_depth=90, n_estimators=200, total=   1.0s\n",
      "[CV] bootstrap=True, max_depth=90, n_estimators=400 ..................\n",
      "[CV] ... bootstrap=True, max_depth=90, n_estimators=400, total=   0.3s\n",
      "[CV] bootstrap=True, max_depth=90, n_estimators=400 ..................\n",
      "[CV] ... bootstrap=True, max_depth=90, n_estimators=400, total=   0.5s\n",
      "[CV] bootstrap=True, max_depth=90, n_estimators=400 ..................\n",
      "[CV] ... bootstrap=True, max_depth=90, n_estimators=400, total=   0.5s\n",
      "[CV] bootstrap=True, max_depth=90, n_estimators=600 ..................\n",
      "[CV] ... bootstrap=True, max_depth=90, n_estimators=600, total=   0.7s\n",
      "[CV] bootstrap=True, max_depth=90, n_estimators=600 ..................\n",
      "[CV] ... bootstrap=True, max_depth=90, n_estimators=600, total=   0.7s\n",
      "[CV] bootstrap=True, max_depth=90, n_estimators=600 ..................\n",
      "[CV] ... bootstrap=True, max_depth=90, n_estimators=600, total=   0.7s\n",
      "[CV] bootstrap=True, max_depth=100, n_estimators=200 .................\n",
      "[CV] .. bootstrap=True, max_depth=100, n_estimators=200, total=   0.2s\n",
      "[CV] bootstrap=True, max_depth=100, n_estimators=200 .................\n",
      "[CV] .. bootstrap=True, max_depth=100, n_estimators=200, total=   0.2s\n",
      "[CV] bootstrap=True, max_depth=100, n_estimators=200 .................\n",
      "[CV] .. bootstrap=True, max_depth=100, n_estimators=200, total=   0.2s\n",
      "[CV] bootstrap=True, max_depth=100, n_estimators=400 .................\n",
      "[CV] .. bootstrap=True, max_depth=100, n_estimators=400, total=   0.5s\n",
      "[CV] bootstrap=True, max_depth=100, n_estimators=400 .................\n",
      "[CV] .. bootstrap=True, max_depth=100, n_estimators=400, total=   0.5s\n",
      "[CV] bootstrap=True, max_depth=100, n_estimators=400 .................\n",
      "[CV] .. bootstrap=True, max_depth=100, n_estimators=400, total=   0.5s\n",
      "[CV] bootstrap=True, max_depth=100, n_estimators=600 .................\n",
      "[CV] .. bootstrap=True, max_depth=100, n_estimators=600, total=   0.7s\n",
      "[CV] bootstrap=True, max_depth=100, n_estimators=600 .................\n",
      "[CV] .. bootstrap=True, max_depth=100, n_estimators=600, total=   0.7s\n",
      "[CV] bootstrap=True, max_depth=100, n_estimators=600 .................\n",
      "[CV] .. bootstrap=True, max_depth=100, n_estimators=600, total=   0.7s\n",
      "[CV] bootstrap=True, max_depth=None, n_estimators=200 ................\n",
      "[CV] . bootstrap=True, max_depth=None, n_estimators=200, total=   0.3s\n",
      "[CV] bootstrap=True, max_depth=None, n_estimators=200 ................\n",
      "[CV] . bootstrap=True, max_depth=None, n_estimators=200, total=   0.3s\n",
      "[CV] bootstrap=True, max_depth=None, n_estimators=200 ................\n",
      "[CV] . bootstrap=True, max_depth=None, n_estimators=200, total=   0.2s\n",
      "[CV] bootstrap=True, max_depth=None, n_estimators=400 ................\n",
      "[CV] . bootstrap=True, max_depth=None, n_estimators=400, total=   0.5s\n",
      "[CV] bootstrap=True, max_depth=None, n_estimators=400 ................\n",
      "[CV] . bootstrap=True, max_depth=None, n_estimators=400, total=   0.5s\n",
      "[CV] bootstrap=True, max_depth=None, n_estimators=400 ................\n",
      "[CV] . bootstrap=True, max_depth=None, n_estimators=400, total=   0.5s\n",
      "[CV] bootstrap=True, max_depth=None, n_estimators=600 ................\n",
      "[CV] . bootstrap=True, max_depth=None, n_estimators=600, total=   0.7s\n",
      "[CV] bootstrap=True, max_depth=None, n_estimators=600 ................\n",
      "[CV] . bootstrap=True, max_depth=None, n_estimators=600, total=   0.7s\n",
      "[CV] bootstrap=True, max_depth=None, n_estimators=600 ................\n",
      "[CV] . bootstrap=True, max_depth=None, n_estimators=600, total=   0.7s\n",
      "[CV] bootstrap=False, max_depth=10, n_estimators=200 .................\n",
      "[CV] .. bootstrap=False, max_depth=10, n_estimators=200, total=   0.2s\n",
      "[CV] bootstrap=False, max_depth=10, n_estimators=200 .................\n",
      "[CV] .. bootstrap=False, max_depth=10, n_estimators=200, total=   0.2s\n",
      "[CV] bootstrap=False, max_depth=10, n_estimators=200 .................\n",
      "[CV] .. bootstrap=False, max_depth=10, n_estimators=200, total=   0.3s\n",
      "[CV] bootstrap=False, max_depth=10, n_estimators=400 .................\n",
      "[CV] .. bootstrap=False, max_depth=10, n_estimators=400, total=   0.5s\n",
      "[CV] bootstrap=False, max_depth=10, n_estimators=400 .................\n",
      "[CV] .. bootstrap=False, max_depth=10, n_estimators=400, total=   0.5s\n",
      "[CV] bootstrap=False, max_depth=10, n_estimators=400 .................\n",
      "[CV] .. bootstrap=False, max_depth=10, n_estimators=400, total=   0.5s\n",
      "[CV] bootstrap=False, max_depth=10, n_estimators=600 .................\n",
      "[CV] .. bootstrap=False, max_depth=10, n_estimators=600, total=   0.7s\n",
      "[CV] bootstrap=False, max_depth=10, n_estimators=600 .................\n",
      "[CV] .. bootstrap=False, max_depth=10, n_estimators=600, total=   0.7s\n",
      "[CV] bootstrap=False, max_depth=10, n_estimators=600 .................\n",
      "[CV] .. bootstrap=False, max_depth=10, n_estimators=600, total=   0.7s\n",
      "[CV] bootstrap=False, max_depth=20, n_estimators=200 .................\n",
      "[CV] .. bootstrap=False, max_depth=20, n_estimators=200, total=   0.2s\n",
      "[CV] bootstrap=False, max_depth=20, n_estimators=200 .................\n",
      "[CV] .. bootstrap=False, max_depth=20, n_estimators=200, total=   0.2s\n",
      "[CV] bootstrap=False, max_depth=20, n_estimators=200 .................\n",
      "[CV] .. bootstrap=False, max_depth=20, n_estimators=200, total=   0.3s\n",
      "[CV] bootstrap=False, max_depth=20, n_estimators=400 .................\n",
      "[CV] .. bootstrap=False, max_depth=20, n_estimators=400, total=   0.5s\n",
      "[CV] bootstrap=False, max_depth=20, n_estimators=400 .................\n",
      "[CV] .. bootstrap=False, max_depth=20, n_estimators=400, total=   0.5s\n",
      "[CV] bootstrap=False, max_depth=20, n_estimators=400 .................\n",
      "[CV] .. bootstrap=False, max_depth=20, n_estimators=400, total=   0.5s\n",
      "[CV] bootstrap=False, max_depth=20, n_estimators=600 .................\n",
      "[CV] .. bootstrap=False, max_depth=20, n_estimators=600, total=   0.7s\n",
      "[CV] bootstrap=False, max_depth=20, n_estimators=600 .................\n",
      "[CV] .. bootstrap=False, max_depth=20, n_estimators=600, total=   0.7s\n",
      "[CV] bootstrap=False, max_depth=20, n_estimators=600 .................\n",
      "[CV] .. bootstrap=False, max_depth=20, n_estimators=600, total=   0.7s\n",
      "[CV] bootstrap=False, max_depth=30, n_estimators=200 .................\n",
      "[CV] .. bootstrap=False, max_depth=30, n_estimators=200, total=   0.2s\n",
      "[CV] bootstrap=False, max_depth=30, n_estimators=200 .................\n",
      "[CV] .. bootstrap=False, max_depth=30, n_estimators=200, total=   0.2s\n",
      "[CV] bootstrap=False, max_depth=30, n_estimators=200 .................\n",
      "[CV] .. bootstrap=False, max_depth=30, n_estimators=200, total=   0.3s\n",
      "[CV] bootstrap=False, max_depth=30, n_estimators=400 .................\n",
      "[CV] .. bootstrap=False, max_depth=30, n_estimators=400, total=   0.5s\n",
      "[CV] bootstrap=False, max_depth=30, n_estimators=400 .................\n",
      "[CV] .. bootstrap=False, max_depth=30, n_estimators=400, total=   0.5s\n",
      "[CV] bootstrap=False, max_depth=30, n_estimators=400 .................\n",
      "[CV] .. bootstrap=False, max_depth=30, n_estimators=400, total=   0.5s\n",
      "[CV] bootstrap=False, max_depth=30, n_estimators=600 .................\n",
      "[CV] .. bootstrap=False, max_depth=30, n_estimators=600, total=   0.7s\n",
      "[CV] bootstrap=False, max_depth=30, n_estimators=600 .................\n",
      "[CV] .. bootstrap=False, max_depth=30, n_estimators=600, total=   0.7s\n",
      "[CV] bootstrap=False, max_depth=30, n_estimators=600 .................\n",
      "[CV] .. bootstrap=False, max_depth=30, n_estimators=600, total=   0.7s\n",
      "[CV] bootstrap=False, max_depth=40, n_estimators=200 .................\n",
      "[CV] .. bootstrap=False, max_depth=40, n_estimators=200, total=   0.3s\n",
      "[CV] bootstrap=False, max_depth=40, n_estimators=200 .................\n",
      "[CV] .. bootstrap=False, max_depth=40, n_estimators=200, total=   0.2s\n",
      "[CV] bootstrap=False, max_depth=40, n_estimators=200 .................\n",
      "[CV] .. bootstrap=False, max_depth=40, n_estimators=200, total=   0.3s\n",
      "[CV] bootstrap=False, max_depth=40, n_estimators=400 .................\n",
      "[CV] .. bootstrap=False, max_depth=40, n_estimators=400, total=   0.5s\n",
      "[CV] bootstrap=False, max_depth=40, n_estimators=400 .................\n",
      "[CV] .. bootstrap=False, max_depth=40, n_estimators=400, total=   0.5s\n",
      "[CV] bootstrap=False, max_depth=40, n_estimators=400 .................\n",
      "[CV] .. bootstrap=False, max_depth=40, n_estimators=400, total=   0.5s\n",
      "[CV] bootstrap=False, max_depth=40, n_estimators=600 .................\n",
      "[CV] .. bootstrap=False, max_depth=40, n_estimators=600, total=   0.7s\n",
      "[CV] bootstrap=False, max_depth=40, n_estimators=600 .................\n",
      "[CV] .. bootstrap=False, max_depth=40, n_estimators=600, total=   0.7s\n",
      "[CV] bootstrap=False, max_depth=40, n_estimators=600 .................\n",
      "[CV] .. bootstrap=False, max_depth=40, n_estimators=600, total=   0.8s\n",
      "[CV] bootstrap=False, max_depth=50, n_estimators=200 .................\n",
      "[CV] .. bootstrap=False, max_depth=50, n_estimators=200, total=   0.3s\n",
      "[CV] bootstrap=False, max_depth=50, n_estimators=200 .................\n",
      "[CV] .. bootstrap=False, max_depth=50, n_estimators=200, total=   0.3s\n",
      "[CV] bootstrap=False, max_depth=50, n_estimators=200 .................\n",
      "[CV] .. bootstrap=False, max_depth=50, n_estimators=200, total=   0.3s\n",
      "[CV] bootstrap=False, max_depth=50, n_estimators=400 .................\n",
      "[CV] .. bootstrap=False, max_depth=50, n_estimators=400, total=   0.5s\n",
      "[CV] bootstrap=False, max_depth=50, n_estimators=400 .................\n",
      "[CV] .. bootstrap=False, max_depth=50, n_estimators=400, total=   0.5s\n",
      "[CV] bootstrap=False, max_depth=50, n_estimators=400 .................\n",
      "[CV] .. bootstrap=False, max_depth=50, n_estimators=400, total=   0.5s\n",
      "[CV] bootstrap=False, max_depth=50, n_estimators=600 .................\n",
      "[CV] .. bootstrap=False, max_depth=50, n_estimators=600, total=   0.7s\n",
      "[CV] bootstrap=False, max_depth=50, n_estimators=600 .................\n",
      "[CV] .. bootstrap=False, max_depth=50, n_estimators=600, total=   0.7s\n",
      "[CV] bootstrap=False, max_depth=50, n_estimators=600 .................\n",
      "[CV] .. bootstrap=False, max_depth=50, n_estimators=600, total=   0.8s\n",
      "[CV] bootstrap=False, max_depth=60, n_estimators=200 .................\n",
      "[CV] .. bootstrap=False, max_depth=60, n_estimators=200, total=   0.2s\n",
      "[CV] bootstrap=False, max_depth=60, n_estimators=200 .................\n",
      "[CV] .. bootstrap=False, max_depth=60, n_estimators=200, total=   0.2s\n",
      "[CV] bootstrap=False, max_depth=60, n_estimators=200 .................\n",
      "[CV] .. bootstrap=False, max_depth=60, n_estimators=200, total=   0.3s\n",
      "[CV] bootstrap=False, max_depth=60, n_estimators=400 .................\n",
      "[CV] .. bootstrap=False, max_depth=60, n_estimators=400, total=   0.5s\n",
      "[CV] bootstrap=False, max_depth=60, n_estimators=400 .................\n",
      "[CV] .. bootstrap=False, max_depth=60, n_estimators=400, total=   0.5s\n",
      "[CV] bootstrap=False, max_depth=60, n_estimators=400 .................\n",
      "[CV] .. bootstrap=False, max_depth=60, n_estimators=400, total=   0.5s\n",
      "[CV] bootstrap=False, max_depth=60, n_estimators=600 .................\n",
      "[CV] .. bootstrap=False, max_depth=60, n_estimators=600, total=   0.7s\n",
      "[CV] bootstrap=False, max_depth=60, n_estimators=600 .................\n",
      "[CV] .. bootstrap=False, max_depth=60, n_estimators=600, total=   0.7s\n",
      "[CV] bootstrap=False, max_depth=60, n_estimators=600 .................\n",
      "[CV] .. bootstrap=False, max_depth=60, n_estimators=600, total=   0.7s\n",
      "[CV] bootstrap=False, max_depth=70, n_estimators=200 .................\n",
      "[CV] .. bootstrap=False, max_depth=70, n_estimators=200, total=   0.2s\n",
      "[CV] bootstrap=False, max_depth=70, n_estimators=200 .................\n",
      "[CV] .. bootstrap=False, max_depth=70, n_estimators=200, total=   0.2s\n",
      "[CV] bootstrap=False, max_depth=70, n_estimators=200 .................\n",
      "[CV] .. bootstrap=False, max_depth=70, n_estimators=200, total=   0.3s\n",
      "[CV] bootstrap=False, max_depth=70, n_estimators=400 .................\n",
      "[CV] .. bootstrap=False, max_depth=70, n_estimators=400, total=   0.5s\n",
      "[CV] bootstrap=False, max_depth=70, n_estimators=400 .................\n",
      "[CV] .. bootstrap=False, max_depth=70, n_estimators=400, total=   0.5s\n",
      "[CV] bootstrap=False, max_depth=70, n_estimators=400 .................\n",
      "[CV] .. bootstrap=False, max_depth=70, n_estimators=400, total=   0.5s\n",
      "[CV] bootstrap=False, max_depth=70, n_estimators=600 .................\n",
      "[CV] .. bootstrap=False, max_depth=70, n_estimators=600, total=   0.7s\n",
      "[CV] bootstrap=False, max_depth=70, n_estimators=600 .................\n",
      "[CV] .. bootstrap=False, max_depth=70, n_estimators=600, total=   0.7s\n",
      "[CV] bootstrap=False, max_depth=70, n_estimators=600 .................\n",
      "[CV] .. bootstrap=False, max_depth=70, n_estimators=600, total=   0.7s\n",
      "[CV] bootstrap=False, max_depth=80, n_estimators=200 .................\n",
      "[CV] .. bootstrap=False, max_depth=80, n_estimators=200, total=   0.2s\n",
      "[CV] bootstrap=False, max_depth=80, n_estimators=200 .................\n",
      "[CV] .. bootstrap=False, max_depth=80, n_estimators=200, total=   0.2s\n",
      "[CV] bootstrap=False, max_depth=80, n_estimators=200 .................\n",
      "[CV] .. bootstrap=False, max_depth=80, n_estimators=200, total=   0.3s\n",
      "[CV] bootstrap=False, max_depth=80, n_estimators=400 .................\n",
      "[CV] .. bootstrap=False, max_depth=80, n_estimators=400, total=   0.5s\n",
      "[CV] bootstrap=False, max_depth=80, n_estimators=400 .................\n",
      "[CV] .. bootstrap=False, max_depth=80, n_estimators=400, total=   0.5s\n",
      "[CV] bootstrap=False, max_depth=80, n_estimators=400 .................\n",
      "[CV] .. bootstrap=False, max_depth=80, n_estimators=400, total=   0.5s\n",
      "[CV] bootstrap=False, max_depth=80, n_estimators=600 .................\n",
      "[CV] .. bootstrap=False, max_depth=80, n_estimators=600, total=   0.7s\n",
      "[CV] bootstrap=False, max_depth=80, n_estimators=600 .................\n",
      "[CV] .. bootstrap=False, max_depth=80, n_estimators=600, total=   0.7s\n",
      "[CV] bootstrap=False, max_depth=80, n_estimators=600 .................\n",
      "[CV] .. bootstrap=False, max_depth=80, n_estimators=600, total=   0.7s\n",
      "[CV] bootstrap=False, max_depth=90, n_estimators=200 .................\n",
      "[CV] .. bootstrap=False, max_depth=90, n_estimators=200, total=   0.3s\n",
      "[CV] bootstrap=False, max_depth=90, n_estimators=200 .................\n",
      "[CV] .. bootstrap=False, max_depth=90, n_estimators=200, total=   0.2s\n",
      "[CV] bootstrap=False, max_depth=90, n_estimators=200 .................\n",
      "[CV] .. bootstrap=False, max_depth=90, n_estimators=200, total=   0.3s\n",
      "[CV] bootstrap=False, max_depth=90, n_estimators=400 .................\n",
      "[CV] .. bootstrap=False, max_depth=90, n_estimators=400, total=   0.5s\n",
      "[CV] bootstrap=False, max_depth=90, n_estimators=400 .................\n",
      "[CV] .. bootstrap=False, max_depth=90, n_estimators=400, total=   0.5s\n",
      "[CV] bootstrap=False, max_depth=90, n_estimators=400 .................\n",
      "[CV] .. bootstrap=False, max_depth=90, n_estimators=400, total=   0.5s\n",
      "[CV] bootstrap=False, max_depth=90, n_estimators=600 .................\n",
      "[CV] .. bootstrap=False, max_depth=90, n_estimators=600, total=   0.7s\n",
      "[CV] bootstrap=False, max_depth=90, n_estimators=600 .................\n",
      "[CV] .. bootstrap=False, max_depth=90, n_estimators=600, total=   0.7s\n",
      "[CV] bootstrap=False, max_depth=90, n_estimators=600 .................\n",
      "[CV] .. bootstrap=False, max_depth=90, n_estimators=600, total=   0.7s\n",
      "[CV] bootstrap=False, max_depth=100, n_estimators=200 ................\n",
      "[CV] . bootstrap=False, max_depth=100, n_estimators=200, total=   0.2s\n",
      "[CV] bootstrap=False, max_depth=100, n_estimators=200 ................\n",
      "[CV] . bootstrap=False, max_depth=100, n_estimators=200, total=   0.2s\n",
      "[CV] bootstrap=False, max_depth=100, n_estimators=200 ................\n",
      "[CV] . bootstrap=False, max_depth=100, n_estimators=200, total=   0.2s\n",
      "[CV] bootstrap=False, max_depth=100, n_estimators=400 ................\n",
      "[CV] . bootstrap=False, max_depth=100, n_estimators=400, total=   0.5s\n",
      "[CV] bootstrap=False, max_depth=100, n_estimators=400 ................\n",
      "[CV] . bootstrap=False, max_depth=100, n_estimators=400, total=   0.5s\n",
      "[CV] bootstrap=False, max_depth=100, n_estimators=400 ................\n",
      "[CV] . bootstrap=False, max_depth=100, n_estimators=400, total=   0.5s\n",
      "[CV] bootstrap=False, max_depth=100, n_estimators=600 ................\n",
      "[CV] . bootstrap=False, max_depth=100, n_estimators=600, total=   0.7s\n",
      "[CV] bootstrap=False, max_depth=100, n_estimators=600 ................\n",
      "[CV] . bootstrap=False, max_depth=100, n_estimators=600, total=   0.7s\n",
      "[CV] bootstrap=False, max_depth=100, n_estimators=600 ................\n",
      "[CV] . bootstrap=False, max_depth=100, n_estimators=600, total=   0.7s\n",
      "[CV] bootstrap=False, max_depth=None, n_estimators=200 ...............\n",
      "[CV]  bootstrap=False, max_depth=None, n_estimators=200, total=   0.2s\n",
      "[CV] bootstrap=False, max_depth=None, n_estimators=200 ...............\n",
      "[CV]  bootstrap=False, max_depth=None, n_estimators=200, total=   0.2s\n",
      "[CV] bootstrap=False, max_depth=None, n_estimators=200 ...............\n",
      "[CV]  bootstrap=False, max_depth=None, n_estimators=200, total=   0.3s\n",
      "[CV] bootstrap=False, max_depth=None, n_estimators=400 ...............\n",
      "[CV]  bootstrap=False, max_depth=None, n_estimators=400, total=   0.5s\n",
      "[CV] bootstrap=False, max_depth=None, n_estimators=400 ...............\n",
      "[CV]  bootstrap=False, max_depth=None, n_estimators=400, total=   0.5s\n",
      "[CV] bootstrap=False, max_depth=None, n_estimators=400 ...............\n",
      "[CV]  bootstrap=False, max_depth=None, n_estimators=400, total=   0.5s\n",
      "[CV] bootstrap=False, max_depth=None, n_estimators=600 ...............\n",
      "[CV]  bootstrap=False, max_depth=None, n_estimators=600, total=   0.7s\n",
      "[CV] bootstrap=False, max_depth=None, n_estimators=600 ...............\n",
      "[CV]  bootstrap=False, max_depth=None, n_estimators=600, total=   0.7s\n",
      "[CV] bootstrap=False, max_depth=None, n_estimators=600 ...............\n",
      "[CV]  bootstrap=False, max_depth=None, n_estimators=600, total=   0.7s\n"
     ]
    },
    {
     "name": "stderr",
     "output_type": "stream",
     "text": [
      "[Parallel(n_jobs=1)]: Done 198 out of 198 | elapsed:  1.4min finished\n",
      "C:\\Users\\MATTHEW\\Anaconda3\\lib\\site-packages\\sklearn\\model_selection\\_search.py:814: DeprecationWarning: The default of the `iid` parameter will change from True to False in version 0.22 and will be removed in 0.24. This will change numeric results when test-set sizes are unequal.\n",
      "  DeprecationWarning)\n"
     ]
    },
    {
     "data": {
      "text/plain": [
       "GridSearchCV(cv=3, error_score='raise-deprecating',\n",
       "             estimator=RandomForestClassifier(bootstrap=True, class_weight=None,\n",
       "                                              criterion='gini', max_depth=None,\n",
       "                                              max_features='auto',\n",
       "                                              max_leaf_nodes=None,\n",
       "                                              min_impurity_decrease=0.0,\n",
       "                                              min_impurity_split=None,\n",
       "                                              min_samples_leaf=1,\n",
       "                                              min_samples_split=2,\n",
       "                                              min_weight_fraction_leaf=0.0,\n",
       "                                              n_estimators=100, n_jobs=None,\n",
       "                                              oob_score=False, random_state=0,\n",
       "                                              verbose=0, warm_start=False),\n",
       "             iid='warn', n_jobs=None,\n",
       "             param_grid={'bootstrap': [True, False],\n",
       "                         'max_depth': [10, 20, 30, 40, 50, 60, 70, 80, 90, 100,\n",
       "                                       None],\n",
       "                         'n_estimators': [200, 400, 600]},\n",
       "             pre_dispatch='2*n_jobs', refit=True, return_train_score=False,\n",
       "             scoring=None, verbose=2)"
      ]
     },
     "execution_count": 69,
     "metadata": {},
     "output_type": "execute_result"
    }
   ],
   "source": [
    "grid_rf.fit(train_X,train_y)"
   ]
  },
  {
   "cell_type": "code",
   "execution_count": 70,
   "metadata": {},
   "outputs": [
    {
     "data": {
      "text/plain": [
       "{'bootstrap': True, 'max_depth': 10, 'n_estimators': 600}"
      ]
     },
     "execution_count": 70,
     "metadata": {},
     "output_type": "execute_result"
    }
   ],
   "source": [
    "grid_rf.best_params_"
   ]
  },
  {
   "cell_type": "code",
   "execution_count": 71,
   "metadata": {},
   "outputs": [
    {
     "data": {
      "text/plain": [
       "RandomForestClassifier(bootstrap=True, class_weight=None, criterion='gini',\n",
       "                       max_depth=10, max_features='auto', max_leaf_nodes=None,\n",
       "                       min_impurity_decrease=0.0, min_impurity_split=None,\n",
       "                       min_samples_leaf=1, min_samples_split=2,\n",
       "                       min_weight_fraction_leaf=0.0, n_estimators=600,\n",
       "                       n_jobs=None, oob_score=False, random_state=0, verbose=0,\n",
       "                       warm_start=False)"
      ]
     },
     "execution_count": 71,
     "metadata": {},
     "output_type": "execute_result"
    }
   ],
   "source": [
    "grid_rf.best_estimator_"
   ]
  },
  {
   "cell_type": "code",
   "execution_count": 72,
   "metadata": {},
   "outputs": [],
   "source": [
    "grid_prediction_rf = grid_rf.predict(test_X)"
   ]
  },
  {
   "cell_type": "code",
   "execution_count": 73,
   "metadata": {},
   "outputs": [
    {
     "name": "stdout",
     "output_type": "stream",
     "text": [
      "[[ 43  60]\n",
      " [  6 198]] \n",
      " with accuracy  0.8208469055374593\n"
     ]
    }
   ],
   "source": [
    "print(confusion_matrix(test_y,grid_prediction_rf),'\\n with accuracy ',grid_rf.best_score_)"
   ]
  },
  {
   "cell_type": "markdown",
   "metadata": {},
   "source": []
  },
  {
   "cell_type": "code",
   "execution_count": 74,
   "metadata": {},
   "outputs": [],
   "source": []
  },
  {
   "cell_type": "code",
   "execution_count": null,
   "metadata": {},
   "outputs": [],
   "source": []
  },
  {
   "cell_type": "code",
   "execution_count": 76,
   "metadata": {},
   "outputs": [],
   "source": []
  },
  {
   "cell_type": "code",
   "execution_count": null,
   "metadata": {},
   "outputs": [],
   "source": []
  },
  {
   "cell_type": "code",
   "execution_count": 78,
   "metadata": {},
   "outputs": [],
   "source": []
  },
  {
   "cell_type": "code",
   "execution_count": 79,
   "metadata": {},
   "outputs": [],
   "source": []
  },
  {
   "cell_type": "code",
   "execution_count": null,
   "metadata": {},
   "outputs": [],
   "source": []
  },
  {
   "cell_type": "code",
   "execution_count": null,
   "metadata": {},
   "outputs": [],
   "source": []
  },
  {
   "cell_type": "code",
   "execution_count": null,
   "metadata": {},
   "outputs": [],
   "source": []
  },
  {
   "cell_type": "code",
   "execution_count": null,
   "metadata": {},
   "outputs": [],
   "source": []
  },
  {
   "cell_type": "code",
   "execution_count": null,
   "metadata": {},
   "outputs": [],
   "source": []
  },
  {
   "cell_type": "code",
   "execution_count": null,
   "metadata": {},
   "outputs": [],
   "source": []
  },
  {
   "cell_type": "code",
   "execution_count": null,
   "metadata": {},
   "outputs": [],
   "source": []
  },
  {
   "cell_type": "code",
   "execution_count": null,
   "metadata": {},
   "outputs": [],
   "source": []
  },
  {
   "cell_type": "code",
   "execution_count": null,
   "metadata": {},
   "outputs": [],
   "source": []
  },
  {
   "cell_type": "code",
   "execution_count": null,
   "metadata": {},
   "outputs": [],
   "source": []
  },
  {
   "cell_type": "code",
   "execution_count": null,
   "metadata": {},
   "outputs": [],
   "source": []
  }
 ],
 "metadata": {
  "kernelspec": {
   "display_name": "Python 3 (ipykernel)",
   "language": "python",
   "name": "python3"
  },
  "language_info": {
   "codemirror_mode": {
    "name": "ipython",
    "version": 3
   },
   "file_extension": ".py",
   "mimetype": "text/x-python",
   "name": "python",
   "nbconvert_exporter": "python",
   "pygments_lexer": "ipython3",
   "version": "3.9.7"
  }
 },
 "nbformat": 4,
 "nbformat_minor": 4
}
